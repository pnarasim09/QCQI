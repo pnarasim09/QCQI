{
 "cells": [
  {
   "cell_type": "code",
   "execution_count": 1,
   "id": "b86104a9",
   "metadata": {},
   "outputs": [],
   "source": [
    "import numpy as np\n",
    "import dimod\n",
    "import matplotlib as mpl\n",
    "import matplotlib.pyplot as plt\n",
    "import dwave_networkx as dnx\n",
    "import networkx as nx\n",
    "import minorminer\n",
    "import math\n",
    "import cmath\n",
    "%matplotlib inline"
   ]
  },
  {
   "cell_type": "markdown",
   "id": "7bfb3ba3",
   "metadata": {},
   "source": [
    "This notebook takes a \"response\", i.e., an output from quantum or simulated annealing using dimod or a DWaveSampler, and then performs a Fourier transform on this imput. Currently, only a 16 bit response is supported."
   ]
  },
  {
   "cell_type": "markdown",
   "id": "5283075f",
   "metadata": {},
   "source": [
    "Creating an array of r vectors for a 4x4 lattice of the form:"
   ]
  },
  {
   "cell_type": "code",
   "execution_count": 17,
   "id": "e122fc9a",
   "metadata": {},
   "outputs": [
    {
     "name": "stdout",
     "output_type": "stream",
     "text": [
      "[[0 3]\n",
      " [1 3]\n",
      " [2 3]\n",
      " [3 3]\n",
      " [0 2]\n",
      " [1 2]\n",
      " [2 2]\n",
      " [3 2]\n",
      " [0 1]\n",
      " [1 1]\n",
      " [2 1]\n",
      " [3 1]\n",
      " [0 0]\n",
      " [1 0]\n",
      " [2 0]\n",
      " [3 0]]\n"
     ]
    }
   ],
   "source": [
    "# r0  r1  r2  r3 \n",
    "# r4  r5  r6  r7\n",
    "# r8  r9  r10 r11\n",
    "# r12 r13 r14 r15\n",
    "\n",
    "r_vectors=np.array([\n",
    "    tuple([0,3]), tuple([1,3]), tuple([2,3]), tuple([3,3]),\n",
    "    tuple([0,2]), tuple([1,2]), tuple([2,2]), tuple([3,2]),\n",
    "    tuple([0,1]), tuple([1,1]), tuple([2,1]), tuple([3,1]),\n",
    "    tuple([0,0]), tuple([1,0]), tuple([2,0]), tuple([3,0]),\n",
    "])\n",
    "print(r_vectors)"
   ]
  },
  {
   "cell_type": "markdown",
   "id": "5dbcd6f7",
   "metadata": {},
   "source": [
    "Creating an array of k vectors for a 4x4 lattice:"
   ]
  },
  {
   "cell_type": "code",
   "execution_count": 16,
   "id": "a05cba04",
   "metadata": {},
   "outputs": [
    {
     "name": "stdout",
     "output_type": "stream",
     "text": [
      "[[0.         4.71238898]\n",
      " [1.57079633 4.71238898]\n",
      " [3.14159265 4.71238898]\n",
      " [4.71238898 4.71238898]\n",
      " [0.         3.14159265]\n",
      " [1.57079633 3.14159265]\n",
      " [3.14159265 3.14159265]\n",
      " [4.71238898 3.14159265]\n",
      " [0.         1.57079633]\n",
      " [1.57079633 1.57079633]\n",
      " [3.14159265 1.57079633]\n",
      " [4.71238898 1.57079633]\n",
      " [0.         0.        ]\n",
      " [1.57079633 0.        ]\n",
      " [3.14159265 0.        ]\n",
      " [4.71238898 0.        ]]\n"
     ]
    }
   ],
   "source": [
    "k_vectors=np.array([\n",
    "    tuple([0,np.pi*(3/2)]), tuple([np.pi*(1/2),np.pi*(3/2)]), tuple([np.pi,np.pi*(3/2)]), tuple([np.pi*(3/2),np.pi*(3/2)]),\n",
    "    tuple([0,np.pi]), tuple([np.pi*(1/2),np.pi]), tuple([np.pi,np.pi]), tuple([np.pi*(3/2),np.pi]),\n",
    "    tuple([0,np.pi*(1/2)]), tuple([np.pi*(1/2),np.pi*(1/2)]), tuple([np.pi,np.pi*(1/2)]), tuple([np.pi*(3/2),np.pi*(1/2)]),\n",
    "    tuple([0,0]), tuple([np.pi*(1/2),0]), tuple([np.pi,0]), tuple([np.pi*(3/2),0]),\n",
    "])\n",
    "print(k_vectors)"
   ]
  },
  {
   "cell_type": "markdown",
   "id": "88680069",
   "metadata": {},
   "source": [
    "The following cells compute all exp(i*k.r) values"
   ]
  },
  {
   "cell_type": "code",
   "execution_count": 4,
   "id": "7a639eb3",
   "metadata": {},
   "outputs": [
    {
     "name": "stdout",
     "output_type": "stream",
     "text": [
      "[[14.137166941154069, 14.137166941154069, 14.137166941154069, 14.137166941154069, 9.42477796076938, 9.42477796076938, 9.42477796076938, 9.42477796076938, 4.71238898038469, 4.71238898038469, 4.71238898038469, 4.71238898038469, 0.0, 0.0, 0.0, 0.0], [14.137166941154069, 15.707963267948966, 17.27875959474386, 18.84955592153876, 9.42477796076938, 10.995574287564276, 12.566370614359172, 14.137166941154069, 4.71238898038469, 6.283185307179586, 7.853981633974483, 9.42477796076938, 0.0, 1.5707963267948966, 3.141592653589793, 4.71238898038469], [14.137166941154069, 17.27875959474386, 20.420352248333657, 23.561944901923447, 9.42477796076938, 12.566370614359172, 15.707963267948966, 18.84955592153876, 4.71238898038469, 7.853981633974483, 10.995574287564276, 14.137166941154069, 0.0, 3.141592653589793, 6.283185307179586, 9.42477796076938], [14.137166941154069, 18.84955592153876, 23.561944901923447, 28.274333882308138, 9.42477796076938, 14.137166941154069, 18.84955592153876, 23.561944901923447, 4.71238898038469, 9.42477796076938, 14.137166941154069, 18.84955592153876, 0.0, 4.71238898038469, 9.42477796076938, 14.137166941154069], [9.42477796076938, 9.42477796076938, 9.42477796076938, 9.42477796076938, 6.283185307179586, 6.283185307179586, 6.283185307179586, 6.283185307179586, 3.141592653589793, 3.141592653589793, 3.141592653589793, 3.141592653589793, 0.0, 0.0, 0.0, 0.0], [9.42477796076938, 10.995574287564276, 12.566370614359172, 14.137166941154069, 6.283185307179586, 7.853981633974483, 9.42477796076938, 10.995574287564276, 3.141592653589793, 4.71238898038469, 6.283185307179586, 7.853981633974483, 0.0, 1.5707963267948966, 3.141592653589793, 4.71238898038469], [9.42477796076938, 12.566370614359172, 15.707963267948966, 18.84955592153876, 6.283185307179586, 9.42477796076938, 12.566370614359172, 15.707963267948966, 3.141592653589793, 6.283185307179586, 9.42477796076938, 12.566370614359172, 0.0, 3.141592653589793, 6.283185307179586, 9.42477796076938], [9.42477796076938, 14.137166941154069, 18.84955592153876, 23.561944901923447, 6.283185307179586, 10.995574287564276, 15.707963267948966, 20.420352248333657, 3.141592653589793, 7.853981633974483, 12.566370614359172, 17.27875959474386, 0.0, 4.71238898038469, 9.42477796076938, 14.137166941154069], [4.71238898038469, 4.71238898038469, 4.71238898038469, 4.71238898038469, 3.141592653589793, 3.141592653589793, 3.141592653589793, 3.141592653589793, 1.5707963267948966, 1.5707963267948966, 1.5707963267948966, 1.5707963267948966, 0.0, 0.0, 0.0, 0.0], [4.71238898038469, 6.283185307179586, 7.853981633974483, 9.42477796076938, 3.141592653589793, 4.71238898038469, 6.283185307179586, 7.853981633974483, 1.5707963267948966, 3.141592653589793, 4.71238898038469, 6.283185307179586, 0.0, 1.5707963267948966, 3.141592653589793, 4.71238898038469], [4.71238898038469, 7.853981633974483, 10.995574287564276, 14.137166941154069, 3.141592653589793, 6.283185307179586, 9.42477796076938, 12.566370614359172, 1.5707963267948966, 4.71238898038469, 7.853981633974483, 10.995574287564276, 0.0, 3.141592653589793, 6.283185307179586, 9.42477796076938], [4.71238898038469, 9.42477796076938, 14.137166941154069, 18.84955592153876, 3.141592653589793, 7.853981633974483, 12.566370614359172, 17.27875959474386, 1.5707963267948966, 6.283185307179586, 10.995574287564276, 15.707963267948966, 0.0, 4.71238898038469, 9.42477796076938, 14.137166941154069], [0.0, 0.0, 0.0, 0.0, 0.0, 0.0, 0.0, 0.0, 0.0, 0.0, 0.0, 0.0, 0.0, 0.0, 0.0, 0.0], [0.0, 1.5707963267948966, 3.141592653589793, 4.71238898038469, 0.0, 1.5707963267948966, 3.141592653589793, 4.71238898038469, 0.0, 1.5707963267948966, 3.141592653589793, 4.71238898038469, 0.0, 1.5707963267948966, 3.141592653589793, 4.71238898038469], [0.0, 3.141592653589793, 6.283185307179586, 9.42477796076938, 0.0, 3.141592653589793, 6.283185307179586, 9.42477796076938, 0.0, 3.141592653589793, 6.283185307179586, 9.42477796076938, 0.0, 3.141592653589793, 6.283185307179586, 9.42477796076938], [0.0, 4.71238898038469, 9.42477796076938, 14.137166941154069, 0.0, 4.71238898038469, 9.42477796076938, 14.137166941154069, 0.0, 4.71238898038469, 9.42477796076938, 14.137166941154069, 0.0, 4.71238898038469, 9.42477796076938, 14.137166941154069]]\n"
     ]
    }
   ],
   "source": [
    "# making a list of k.ri for all values of k; 16x16=256 values \n",
    "# output takes the form:\n",
    "# [[k0.r0,k0.r1,...k0.r15],[k1.r0,k1.r1,...k1.r15],...[k15.r0,k15.r1,...,k15.r15]]\n",
    "kdotri=[]\n",
    "for ki in range(16):\n",
    "    newlist=[]\n",
    "    for ri in range(16):\n",
    "        val=k_vectors[ki][0]*r_vectors[ri][0] + k_vectors[ki][1]*r_vectors[ri][1]\n",
    "        newlist.append(val)\n",
    "    kdotri.append(newlist)\n",
    "print(kdotri)"
   ]
  },
  {
   "cell_type": "code",
   "execution_count": 5,
   "id": "d40498f9",
   "metadata": {},
   "outputs": [
    {
     "name": "stdout",
     "output_type": "stream",
     "text": [
      "[[(5.51091059616309e-16+1j), (5.51091059616309e-16+1j), (5.51091059616309e-16+1j), (5.51091059616309e-16+1j), (-1+3.6739403974420594e-16j), (-1+3.6739403974420594e-16j), (-1+3.6739403974420594e-16j), (-1+3.6739403974420594e-16j), (-1.8369701987210297e-16-1j), (-1.8369701987210297e-16-1j), (-1.8369701987210297e-16-1j), (-1.8369701987210297e-16-1j), (1+0j), (1+0j), (1+0j), (1+0j)], [(5.51091059616309e-16+1j), (-1+6.123233995736766e-16j), (-2.4499125789312946e-15-1j), (1-7.347880794884119e-16j), (-1+3.6739403974420594e-16j), (-4.286263797015736e-16-1j), (1-4.898587196589413e-16j), (5.51091059616309e-16+1j), (-1.8369701987210297e-16-1j), (1-2.4492935982947064e-16j), (3.061616997868383e-16+1j), (-1+3.6739403974420594e-16j), (1+0j), (6.123233995736766e-17+1j), (-1+1.2246467991473532e-16j), (-1.8369701987210297e-16-1j)], [(5.51091059616309e-16+1j), (-2.4499125789312946e-15-1j), (-9.803364199544708e-16+1j), (-2.6948419387607653e-15-1j), (-1+3.6739403974420594e-16j), (1-4.898587196589413e-16j), (-1+6.123233995736766e-16j), (1-7.347880794884119e-16j), (-1.8369701987210297e-16-1j), (3.061616997868383e-16+1j), (-4.286263797015736e-16-1j), (5.51091059616309e-16+1j), (1+0j), (-1+1.2246467991473532e-16j), (1-2.4492935982947064e-16j), (-1+3.6739403974420594e-16j)], [(5.51091059616309e-16+1j), (1-7.347880794884119e-16j), (-2.6948419387607653e-15-1j), (-1+1.102182119232618e-15j), (-1+3.6739403974420594e-16j), (5.51091059616309e-16+1j), (1-7.347880794884119e-16j), (-2.6948419387607653e-15-1j), (-1.8369701987210297e-16-1j), (-1+3.6739403974420594e-16j), (5.51091059616309e-16+1j), (1-7.347880794884119e-16j), (1+0j), (-1.8369701987210297e-16-1j), (-1+3.6739403974420594e-16j), (5.51091059616309e-16+1j)], [(-1+3.6739403974420594e-16j), (-1+3.6739403974420594e-16j), (-1+3.6739403974420594e-16j), (-1+3.6739403974420594e-16j), (1-2.4492935982947064e-16j), (1-2.4492935982947064e-16j), (1-2.4492935982947064e-16j), (1-2.4492935982947064e-16j), (-1+1.2246467991473532e-16j), (-1+1.2246467991473532e-16j), (-1+1.2246467991473532e-16j), (-1+1.2246467991473532e-16j), (1+0j), (1+0j), (1+0j), (1+0j)], [(-1+3.6739403974420594e-16j), (-4.286263797015736e-16-1j), (1-4.898587196589413e-16j), (5.51091059616309e-16+1j), (1-2.4492935982947064e-16j), (3.061616997868383e-16+1j), (-1+3.6739403974420594e-16j), (-4.286263797015736e-16-1j), (-1+1.2246467991473532e-16j), (-1.8369701987210297e-16-1j), (1-2.4492935982947064e-16j), (3.061616997868383e-16+1j), (1+0j), (6.123233995736766e-17+1j), (-1+1.2246467991473532e-16j), (-1.8369701987210297e-16-1j)], [(-1+3.6739403974420594e-16j), (1-4.898587196589413e-16j), (-1+6.123233995736766e-16j), (1-7.347880794884119e-16j), (1-2.4492935982947064e-16j), (-1+3.6739403974420594e-16j), (1-4.898587196589413e-16j), (-1+6.123233995736766e-16j), (-1+1.2246467991473532e-16j), (1-2.4492935982947064e-16j), (-1+3.6739403974420594e-16j), (1-4.898587196589413e-16j), (1+0j), (-1+1.2246467991473532e-16j), (1-2.4492935982947064e-16j), (-1+3.6739403974420594e-16j)], [(-1+3.6739403974420594e-16j), (5.51091059616309e-16+1j), (1-7.347880794884119e-16j), (-2.6948419387607653e-15-1j), (1-2.4492935982947064e-16j), (-4.286263797015736e-16-1j), (-1+6.123233995736766e-16j), (-9.803364199544708e-16+1j), (-1+1.2246467991473532e-16j), (3.061616997868383e-16+1j), (1-4.898587196589413e-16j), (-2.4499125789312946e-15-1j), (1+0j), (-1.8369701987210297e-16-1j), (-1+3.6739403974420594e-16j), (5.51091059616309e-16+1j)], [(-1.8369701987210297e-16-1j), (-1.8369701987210297e-16-1j), (-1.8369701987210297e-16-1j), (-1.8369701987210297e-16-1j), (-1+1.2246467991473532e-16j), (-1+1.2246467991473532e-16j), (-1+1.2246467991473532e-16j), (-1+1.2246467991473532e-16j), (6.123233995736766e-17+1j), (6.123233995736766e-17+1j), (6.123233995736766e-17+1j), (6.123233995736766e-17+1j), (1+0j), (1+0j), (1+0j), (1+0j)], [(-1.8369701987210297e-16-1j), (1-2.4492935982947064e-16j), (3.061616997868383e-16+1j), (-1+3.6739403974420594e-16j), (-1+1.2246467991473532e-16j), (-1.8369701987210297e-16-1j), (1-2.4492935982947064e-16j), (3.061616997868383e-16+1j), (6.123233995736766e-17+1j), (-1+1.2246467991473532e-16j), (-1.8369701987210297e-16-1j), (1-2.4492935982947064e-16j), (1+0j), (6.123233995736766e-17+1j), (-1+1.2246467991473532e-16j), (-1.8369701987210297e-16-1j)], [(-1.8369701987210297e-16-1j), (3.061616997868383e-16+1j), (-4.286263797015736e-16-1j), (5.51091059616309e-16+1j), (-1+1.2246467991473532e-16j), (1-2.4492935982947064e-16j), (-1+3.6739403974420594e-16j), (1-4.898587196589413e-16j), (6.123233995736766e-17+1j), (-1.8369701987210297e-16-1j), (3.061616997868383e-16+1j), (-4.286263797015736e-16-1j), (1+0j), (-1+1.2246467991473532e-16j), (1-2.4492935982947064e-16j), (-1+3.6739403974420594e-16j)], [(-1.8369701987210297e-16-1j), (-1+3.6739403974420594e-16j), (5.51091059616309e-16+1j), (1-7.347880794884119e-16j), (-1+1.2246467991473532e-16j), (3.061616997868383e-16+1j), (1-4.898587196589413e-16j), (-2.4499125789312946e-15-1j), (6.123233995736766e-17+1j), (1-2.4492935982947064e-16j), (-4.286263797015736e-16-1j), (-1+6.123233995736766e-16j), (1+0j), (-1.8369701987210297e-16-1j), (-1+3.6739403974420594e-16j), (5.51091059616309e-16+1j)], [(1+0j), (1+0j), (1+0j), (1+0j), (1+0j), (1+0j), (1+0j), (1+0j), (1+0j), (1+0j), (1+0j), (1+0j), (1+0j), (1+0j), (1+0j), (1+0j)], [(1+0j), (6.123233995736766e-17+1j), (-1+1.2246467991473532e-16j), (-1.8369701987210297e-16-1j), (1+0j), (6.123233995736766e-17+1j), (-1+1.2246467991473532e-16j), (-1.8369701987210297e-16-1j), (1+0j), (6.123233995736766e-17+1j), (-1+1.2246467991473532e-16j), (-1.8369701987210297e-16-1j), (1+0j), (6.123233995736766e-17+1j), (-1+1.2246467991473532e-16j), (-1.8369701987210297e-16-1j)], [(1+0j), (-1+1.2246467991473532e-16j), (1-2.4492935982947064e-16j), (-1+3.6739403974420594e-16j), (1+0j), (-1+1.2246467991473532e-16j), (1-2.4492935982947064e-16j), (-1+3.6739403974420594e-16j), (1+0j), (-1+1.2246467991473532e-16j), (1-2.4492935982947064e-16j), (-1+3.6739403974420594e-16j), (1+0j), (-1+1.2246467991473532e-16j), (1-2.4492935982947064e-16j), (-1+3.6739403974420594e-16j)], [(1+0j), (-1.8369701987210297e-16-1j), (-1+3.6739403974420594e-16j), (5.51091059616309e-16+1j), (1+0j), (-1.8369701987210297e-16-1j), (-1+3.6739403974420594e-16j), (5.51091059616309e-16+1j), (1+0j), (-1.8369701987210297e-16-1j), (-1+3.6739403974420594e-16j), (5.51091059616309e-16+1j), (1+0j), (-1.8369701987210297e-16-1j), (-1+3.6739403974420594e-16j), (5.51091059616309e-16+1j)]]\n"
     ]
    }
   ],
   "source": [
    "# doing e^(i*k.r) for each element in kdotri\n",
    "import cmath\n",
    "expkdotri=[]\n",
    "for i in range(16):\n",
    "    newlist=[]\n",
    "    for j in range(16):\n",
    "        val=cmath.exp(complex(0,kdotri[i][j]))\n",
    "        newlist.append(val)\n",
    "    expkdotri.append(newlist)\n",
    "print(expkdotri)"
   ]
  },
  {
   "cell_type": "markdown",
   "id": "47838d2c",
   "metadata": {},
   "source": [
    "The following cells are some functions to be called later"
   ]
  },
  {
   "cell_type": "code",
   "execution_count": 6,
   "id": "a518af60",
   "metadata": {},
   "outputs": [],
   "source": [
    "# multiplication function\n",
    "def exptimesSr(response,run):\n",
    "    exptimesSr_array=[]\n",
    "    exptimesSr_array.clear()\n",
    "    for Si in range(16):\n",
    "        newlist1=[]\n",
    "        newlist1.clear()\n",
    "        for expj in range(16):\n",
    "                val=expkdotri[Si][expj]*response.record[run][0][Si]\n",
    "                newlist1.append(val)\n",
    "        exptimesSr_array.append(newlist1)\n",
    "    return exptimesSr_array"
   ]
  },
  {
   "cell_type": "code",
   "execution_count": 7,
   "id": "fbf30615",
   "metadata": {},
   "outputs": [],
   "source": [
    "# summation function\n",
    "def sumexptimesSr(exptimesSr_array):\n",
    "    sumlist=[]\n",
    "    for i in range(16):\n",
    "        array=exptimesSr_array[i]\n",
    "        for j in array:\n",
    "            total=0\n",
    "            total=total + j\n",
    "        sumlist.append(total)\n",
    "    return(sumlist)"
   ]
  },
  {
   "cell_type": "markdown",
   "id": "a1083d23",
   "metadata": {},
   "source": [
    "This is the final Fourier transform function"
   ]
  },
  {
   "cell_type": "code",
   "execution_count": 8,
   "id": "805fda87",
   "metadata": {},
   "outputs": [],
   "source": [
    "def dft(response,run):\n",
    "    exptimesSr_array=exptimesSr(response,run)\n",
    "    Skarray=np.asarray(sumexptimesSr(exptimesSr_array))\n",
    "    Skarray=np.ndarray.reshape(Skarray,(4,4))\n",
    "    print('The array to be transformed: \\n', np.ndarray.reshape(response.record[run][0],(4,4)))\n",
    "    print('The transformed array: \\n', np.ndarray.reshape(Skarray,(4,4)))\n",
    "\n",
    "\n",
    "    plt.imshow(np.log(np.abs(np.fft.fftshift(Skarray))**2))\n",
    "\n",
    "    plt.show()"
   ]
  },
  {
   "cell_type": "markdown",
   "id": "e7e6753c",
   "metadata": {},
   "source": [
    "J1-J2 triangular lattice simulated annealing example"
   ]
  },
  {
   "cell_type": "code",
   "execution_count": 9,
   "id": "c2c15b3f",
   "metadata": {},
   "outputs": [],
   "source": [
    "#J1=1, J2=2\n",
    "J5 ={\n",
    "    (0,1):1.0, (0,4):1.0,\n",
    "    (1,0):1.0, (1,4):2.0, (1,5):1.0, (1,2):1.0, \n",
    "    (2,1):1.0, (2,5):2.0, (2,6):1.0, (2,3):1.0, \n",
    "    (3,2):1.0, (3,6):2.0, (3,7):1.0, \n",
    " \n",
    "    (4,0):1.0, (4,1):2.0, (4,5):1.0, (4,8):1.0,\n",
    "    (5,4):1.0, (5,1):1.0, (5,2):2.0, (5,6):1.0, (5,9):1.0, (5,8):2.0, \n",
    "    (6,5):1.0, (6,2):1.0, (6,3):2.0, (6,7):1.0, (6,10):1.0, (6,9):2.0,\n",
    "    (7,6):1.0, (7,3):1.0, (7,11):1.0, (7,10):2.0,\n",
    "    \n",
    "    (8,4):1.0, (8,5):2.0, (8,9):1.0, (8,12):1.0, \n",
    "    (9,8):1.0, (9,5):1.0, (9,6):2.0, (9,10):1.0, (9,13):1.0, (9,12):2.0,\n",
    "    (10,9):1.0, (10,6):1.0, (10,7):2.0, (10,11):1.0, (10,14):1.0, (10,13):2.0,\n",
    "    (11,10):1.0, (11,7):1.0, (11,15):1.0, (11,14):2.0,\n",
    "      \n",
    "    (12,8):1.0, (12,9):2.0, (12,13):1.0, \n",
    "    (13,12):1.0, (13,9):1.0, (13,10):2.0, (13,14):1.0, \n",
    "    (14,13):1.0, (14,10):1.0, (14,11):2.0, (14,15):1.0, \n",
    "    (15,14):1.0, (15,11):1.0\n",
    "}\n",
    "\n",
    "h5 ={\n",
    "    0:0.0, 1:0.0, 2:0.0, 3:0.0, \n",
    "    4:0.0, 5:0.0, 6:0.0, 7:0.0, \n",
    "    8:0.0, 9:0.0, 10:0.0, 11:0.0, \n",
    "    12:0.0, 13:0.0, 14:0.0, 15:0.0, \n",
    "}\n",
    "model5 = dimod.BinaryQuadraticModel(h5, J5, 0.0, dimod.SPIN)"
   ]
  },
  {
   "cell_type": "code",
   "execution_count": 10,
   "id": "356091d1",
   "metadata": {},
   "outputs": [
    {
     "name": "stdout",
     "output_type": "stream",
     "text": [
      "    0  1  2  3  4  5  6  7  8  9 10 11 12 13 14 15 energy num_oc.\n",
      "0  +1 +1 -1 -1 -1 +1 +1 +1 -1 -1 -1 +1 +1 +1 -1 +1  -36.0       1\n",
      "1  +1 +1 -1 +1 -1 +1 -1 -1 -1 -1 +1 +1 +1 -1 -1 +1  -36.0       1\n",
      "2  +1 +1 -1 +1 -1 +1 -1 -1 -1 -1 +1 -1 +1 -1 +1 -1  -36.0       1\n",
      "3  -1 +1 -1 +1 -1 +1 -1 +1 -1 +1 -1 +1 -1 +1 -1 -1  -36.0       1\n",
      "4  -1 +1 +1 -1 -1 -1 -1 +1 +1 +1 -1 +1 -1 +1 -1 +1  -36.0       1\n",
      "5  -1 +1 -1 +1 -1 +1 -1 +1 -1 +1 -1 +1 -1 +1 -1 -1  -36.0       1\n",
      "6  -1 +1 -1 +1 -1 +1 +1 -1 -1 -1 +1 +1 +1 -1 -1 +1  -36.0       1\n",
      "7  +1 +1 +1 -1 -1 -1 +1 -1 +1 -1 +1 -1 +1 -1 +1 +1  -36.0       1\n",
      "8  -1 +1 +1 -1 -1 -1 +1 +1 +1 +1 -1 +1 -1 +1 -1 +1  -36.0       1\n",
      "9  +1 +1 +1 +1 -1 -1 -1 -1 +1 +1 +1 -1 -1 -1 +1 +1  -36.0       1\n",
      "10 +1 -1 -1 +1 +1 +1 +1 -1 -1 -1 +1 +1 +1 -1 -1 +1  -36.0       1\n",
      "11 -1 +1 +1 -1 -1 -1 +1 +1 +1 -1 -1 +1 +1 +1 -1 +1  -36.0       1\n",
      "12 -1 -1 +1 +1 +1 -1 -1 -1 +1 +1 +1 -1 -1 -1 +1 -1  -36.0       1\n",
      "13 -1 -1 +1 -1 +1 -1 -1 +1 +1 +1 -1 -1 -1 +1 +1 +1  -36.0       1\n",
      "14 -1 +1 -1 +1 -1 +1 +1 -1 -1 -1 +1 +1 +1 -1 -1 -1  -36.0       1\n",
      "15 +1 -1 +1 -1 +1 -1 -1 +1 +1 +1 -1 -1 -1 +1 +1 -1  -36.0       1\n",
      "16 -1 +1 -1 +1 -1 +1 +1 -1 -1 -1 +1 -1 +1 -1 +1 +1  -36.0       1\n",
      "17 +1 -1 +1 -1 +1 -1 +1 +1 +1 -1 -1 -1 +1 +1 +1 +1  -36.0       1\n",
      "18 +1 +1 -1 -1 -1 +1 +1 +1 -1 -1 -1 +1 +1 +1 -1 +1  -36.0       1\n",
      "19 +1 -1 -1 +1 +1 +1 -1 -1 -1 +1 +1 +1 -1 -1 -1 -1  -36.0       1\n",
      "['SPIN', 20 rows, 20 samples, 16 variables]\n"
     ]
    }
   ],
   "source": [
    "sampler = dimod.SimulatedAnnealingSampler()\n",
    "response5 = sampler.sample(model5, num_reads=20)\n",
    "print(response5)"
   ]
  },
  {
   "cell_type": "code",
   "execution_count": 11,
   "id": "f61a8eea",
   "metadata": {},
   "outputs": [
    {
     "name": "stdout",
     "output_type": "stream",
     "text": [
      "The array to be transformed: \n",
      " [[ 1  1 -1  1]\n",
      " [-1  1 -1 -1]\n",
      " [-1 -1  1  1]\n",
      " [ 1 -1 -1  1]]\n",
      "The transformed array: \n",
      " [[ 1.0000000e+00+0.0000000e+00j -1.8369702e-16-1.0000000e+00j\n",
      "   1.0000000e+00-3.6739404e-16j  5.5109106e-16+1.0000000e+00j]\n",
      " [-1.0000000e+00+0.0000000e+00j -1.8369702e-16-1.0000000e+00j\n",
      "   1.0000000e+00-3.6739404e-16j -5.5109106e-16-1.0000000e+00j]\n",
      " [-1.0000000e+00+0.0000000e+00j  1.8369702e-16+1.0000000e+00j\n",
      "  -1.0000000e+00+3.6739404e-16j  5.5109106e-16+1.0000000e+00j]\n",
      " [ 1.0000000e+00+0.0000000e+00j  1.8369702e-16+1.0000000e+00j\n",
      "   1.0000000e+00-3.6739404e-16j  5.5109106e-16+1.0000000e+00j]]\n"
     ]
    },
    {
     "data": {
      "image/png": "[encoded data removed]",
      "text/plain": [
       "<Figure size 432x288 with 1 Axes>"
      ]
     },
     "metadata": {
      "needs_background": "light"
     },
     "output_type": "display_data"
    }
   ],
   "source": [
    "dft(response5,1)"
   ]
  },
  {
   "cell_type": "markdown",
   "id": "c0b3a060",
   "metadata": {},
   "source": [
    "Testing the same array (response5, run1) using the numpy fft function"
   ]
  },
  {
   "cell_type": "code",
   "execution_count": 12,
   "id": "2224427e",
   "metadata": {},
   "outputs": [
    {
     "name": "stdout",
     "output_type": "stream",
     "text": [
      "[[ 1  1 -1  1]\n",
      " [-1  1 -1 -1]\n",
      " [-1 -1  1  1]\n",
      " [ 1 -1 -1  1]]\n",
      "[[ 0.+0.j  2.+2.j -4.+0.j  2.-2.j]\n",
      " [ 2.+2.j  0.+0.j -2.+2.j  8.+4.j]\n",
      " [ 4.+0.j -2.+2.j  0.+0.j -2.-2.j]\n",
      " [ 2.-2.j  8.-4.j -2.-2.j  0.+0.j]]\n"
     ]
    },
    {
     "name": "stderr",
     "output_type": "stream",
     "text": [
      "/var/folders/zs/mxrf7g1s4k35743ybk1s2n200000gn/T/ipykernel_21032/3164467284.py:6: RuntimeWarning: divide by zero encountered in log\n",
      "  plt.imshow(np.log(np.abs(np.fft.fftshift(array2))**2))\n"
     ]
    },
    {
     "data": {
      "image/png": "[encoded data removed]",
      "text/plain": [
       "<Figure size 432x288 with 1 Axes>"
      ]
     },
     "metadata": {
      "needs_background": "light"
     },
     "output_type": "display_data"
    }
   ],
   "source": [
    "array=np.ndarray.reshape(response5.record[1][0],(4,4))\n",
    "print(array)\n",
    "array2=np.fft.fft2(array)\n",
    "print(array2)\n",
    "\n",
    "plt.imshow(np.log(np.abs(np.fft.fftshift(array2))**2))\n",
    "\n",
    "plt.show()"
   ]
  },
  {
   "cell_type": "code",
   "execution_count": null,
   "id": "72d43be0",
   "metadata": {},
   "outputs": [],
   "source": []
  }
 ],
 "metadata": {
  "kernelspec": {
   "display_name": "Python 3 (ipykernel)",
   "language": "python",
   "name": "python3"
  },
  "language_info": {
   "codemirror_mode": {
    "name": "ipython",
    "version": 3
   },
   "file_extension": ".py",
   "mimetype": "text/x-python",
   "name": "python",
   "nbconvert_exporter": "python",
   "pygments_lexer": "ipython3",
   "version": "3.9.7"
  }
 },
 "nbformat": 4,
 "nbformat_minor": 5
}
