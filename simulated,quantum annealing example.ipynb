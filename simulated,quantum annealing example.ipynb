{
 "cells": [
  {
   "cell_type": "code",
   "execution_count": 1,
   "id": "a07d6709",
   "metadata": {},
   "outputs": [],
   "source": [
    "import numpy as np\n",
    "import dimod\n",
    "import matplotlib.pyplot as plt\n",
    "import dwave_networkx as dnx\n",
    "import networkx as nx\n",
    "import minorminer\n",
    "%matplotlib inline"
   ]
  },
  {
   "cell_type": "code",
   "execution_count": 2,
   "id": "dd2b3484",
   "metadata": {},
   "outputs": [],
   "source": [
    "J = {(0, 1): 1000.0, (1, 2): 0.01}\n",
    "h = {0:-50, 1:0, 2:.5}\n",
    "model = dimod.BinaryQuadraticModel(h, J, 0.0, dimod.SPIN)"
   ]
  },
  {
   "cell_type": "code",
   "execution_count": null,
   "id": "8de8ab79",
   "metadata": {},
   "outputs": [],
   "source": []
  }
 ],
 "metadata": {
  "kernelspec": {
   "display_name": "Python 3 (ipykernel)",
   "language": "python",
   "name": "python3"
  },
  "language_info": {
   "codemirror_mode": {
    "name": "ipython",
    "version": 3
   },
   "file_extension": ".py",
   "mimetype": "text/x-python",
   "name": "python",
   "nbconvert_exporter": "python",
   "pygments_lexer": "ipython3",
   "version": "3.9.7"
  }
 },
 "nbformat": 4,
 "nbformat_minor": 5
}
