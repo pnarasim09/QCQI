{
 "cells": [
  {
   "cell_type": "code",
   "execution_count": null,
   "id": "7b6d29ad",
   "metadata": {},
   "outputs": [],
   "source": [
    "#checking some things\n",
    "\n",
    "from dwave.system.samplers import DWaveSampler\n",
    "sampler = DWaveSampler()\n",
    "print(\"Connected to sampler\", sampler.solver.name)"
   ]
  },
  {
   "cell_type": "code",
   "execution_count": null,
   "id": "92fef4d4",
   "metadata": {},
   "outputs": [],
   "source": [
    "print(\"Maximum anneal schedule points: {}\".format(sampler.properties[\"max_anneal_schedule_points\"]))"
   ]
  },
  {
   "cell_type": "code",
   "execution_count": null,
   "id": "044f6ffe",
   "metadata": {},
   "outputs": [],
   "source": [
    "annealing_range = sampler.properties[\"annealing_time_range\"]\n",
    "max_slope = 1.0/annealing_range[0]\n",
    "print(\"Annealing time range: {}\".format(sampler.properties[\"annealing_time_range\"]))\n",
    "print(\"Maximum slope:\", max_slope)"
   ]
  },
  {
   "cell_type": "code",
   "execution_count": null,
   "id": "497f0245",
   "metadata": {},
   "outputs": [],
   "source": [
    "#One unit cell from Zhou paper containing 4 stars. Setting eta=0\n",
    "\n",
    "#couplings\n",
    "J={\n",
    "    #top right star\n",
    "    (8,12):-1, (8,13):1, (8,14):1, (8,15):1,\n",
    "    (9,12):1, (9,13):-1, (9,14):1, (9,15):1,\n",
    "    (10,12):1, (10,13):1, (10,14):-1, (10,15):1,\n",
    "    (11,12):1, (11,12):1, (11,12):1, (11,12):-1,\n",
    "    \n",
    "    #bottom left star\n",
    "    (16,20):-1, (16,21):1, (16,22):1, (16,23):1,\n",
    "    (17,20):1, (17,21):-1, (17,22):1, (17,23):1,\n",
    "    (18,20):1, (18,21):1, (18,22):-1, (18,23):1,\n",
    "    (19,20):1, (19,21):1, (19,22):1, (19,23):-1,\n",
    "    \n",
    "    #ferro coupling to ghost spins to gauge spin\n",
    "    (12,4):1, (4,0): 1, (0,16): 1,\n",
    "    (13,5):1, (5,1): 1, (1,17): 1,\n",
    "    (14,6):1, (6,2): 1, (2,18): 1,\n",
    "    (15,7):1, (7,3): 1, (3,19): 1,\n",
    "}\n",
    "\n",
    "\n",
    "#spins\n",
    "h={\n",
    "    #top left star - ghost spins\n",
    "    0:1.0, 1:1.0, 2:1.0, 3:1.0,\n",
    "    4:1.0, 5:1.0, 6:1.0, 7:1.0,\n",
    "    \n",
    "    #top right star\n",
    "    8:1.0, 9:1.0, 10:1.0, 11:1.0,\n",
    "    12:1.0, 13:1.0, 14:1.0, 15:1.0,\n",
    "    \n",
    "    #bottom left star\n",
    "    16:1.0, 17:1.0, 18:1.0, 19:1.0,\n",
    "    20:1.0, 21:1.0, 22:1.0, 23:1.0,\n",
    "    \n",
    "    #bottom right star\n",
    "    24:0.0, 25:0.0, 26:0.0, 27:0.0, \n",
    "    28:0.0, 29:0.0, 30:0.0, 31:0.0, \n",
    "}"
   ]
  },
  {
   "cell_type": "code",
   "execution_count": null,
   "id": "1083af8c",
   "metadata": {},
   "outputs": [],
   "source": [
    "\n",
    "from helpers.embedding import DirectEmbeddingComposite\n",
    "\n",
    "sampler_embedded = DirectEmbeddingComposite(sampler)"
   ]
  },
  {
   "cell_type": "code",
   "execution_count": null,
   "id": "2101d6be",
   "metadata": {},
   "outputs": [],
   "source": [
    "#running with default anneal schedule\n",
    "runs=1000\n",
    "results = sampler_embedded.sample_ising(h, J, \n",
    "    num_reads=runs,\n",
    "    answer_mode='raw',\n",
    "    label='Notebook - Anneal Schedule',\n",
    "    annealing_time=100)\n",
    "\n",
    "print(\"QPU time used:\", results.info['timing']['qpu_access_time'], \"microseconds.\")"
   ]
  },
  {
   "cell_type": "code",
   "execution_count": null,
   "id": "0916cf1f",
   "metadata": {},
   "outputs": [],
   "source": [
    "#histogram\n",
    "plt.hist(results.record.energy,rwidth=1,align='left',bins=[-21,-20,-19,-18,-17,-16,-15])\n",
    "plt.show()"
   ]
  },
  {
   "cell_type": "code",
   "execution_count": null,
   "id": "13999d5d",
   "metadata": {},
   "outputs": [],
   "source": [
    "_, counts = np.unique(results.record.energy.reshape(1000,1), axis=0, return_counts=True)\n",
    "print(\"Ground state probability: \", counts[0]/runs)"
   ]
  }
 ],
 "metadata": {
  "kernelspec": {
   "display_name": "Python 3 (ipykernel)",
   "language": "python",
   "name": "python3"
  },
  "language_info": {
   "codemirror_mode": {
    "name": "ipython",
    "version": 3
   },
   "file_extension": ".py",
   "mimetype": "text/x-python",
   "name": "python",
   "nbconvert_exporter": "python",
   "pygments_lexer": "ipython3",
   "version": "3.9.7"
  }
 },
 "nbformat": 4,
 "nbformat_minor": 5
}
