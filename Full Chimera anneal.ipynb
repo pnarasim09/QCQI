{
 "cells": [
  {
   "cell_type": "code",
   "execution_count": 1,
   "id": "0c75e979",
   "metadata": {},
   "outputs": [],
   "source": [
    "import numpy as np\n",
    "import dimod\n",
    "import matplotlib.pyplot as plt\n",
    "import dwave_networkx as dnx\n",
    "import networkx as nx\n",
    "import minorminer\n",
    "import minorminer.layout as mml\n",
    "%matplotlib inline\n",
    "import dwave.inspector\n",
    "import matplotlib as mpl\n",
    "from datetime import datetime\n",
    "from pathlib import Path  \n",
    "import pandas as pd"
   ]
  },
  {
   "cell_type": "code",
   "execution_count": 2,
   "id": "e9533c4b",
   "metadata": {},
   "outputs": [
    {
     "name": "stdout",
     "output_type": "stream",
     "text": [
      "Connected to Advantage Advantage_system6.1 and 2000Q DW_2000Q_6.\n",
      "QPU DW_2000Q_6 was selected.\n"
     ]
    }
   ],
   "source": [
    "import os\n",
    "from dwave.system.samplers import DWaveSampler\n",
    "from dwave.cloud.exceptions import *\n",
    "\n",
    "try:\n",
    "    qpu_advantage = DWaveSampler(solver={'topology__type': 'pegasus'},token=\"DEV-5fa1054cd25ed5a94ead77ab54c60e280f772f28\")\n",
    "    qpu_2000q = DWaveSampler(solver={'topology__type': 'chimera'},token=\"DEV-5fa1054cd25ed5a94ead77ab54c60e280f772f28\")\n",
    "    qpus = {'Advantage': qpu_advantage, 'DW-2000Q': qpu_2000q}\n",
    "    print(\"Connected to Advantage {} and 2000Q {}.\".format(qpu_advantage.solver.id, qpu_2000q.solver.id))\n",
    "except SolverNotFoundError:\n",
    "    print(\"Currently a pair of solvers are unavailable for sections comparing QPU technologies. Try those examples later.\")\n",
    "\n",
    "from dwave.system import DWaveSampler\n",
    "# Use a D-Wave system as the sampler\n",
    "sampler = DWaveSampler(solver=dict(topology__type='chimera'),token=\" \")\n",
    "print(\"QPU {} was selected.\".format(sampler.solver.name))"
   ]
  },
  {
   "cell_type": "code",
   "execution_count": 46,
   "id": "0824fd9a",
   "metadata": {},
   "outputs": [],
   "source": [
    "couplers={}\n",
    "for tup in sampler.edgelist:\n",
    "    couplers.update({tup:-1.0})\n",
    "\n",
    "hs={}\n",
    "for qubit in sampler.nodelist:\n",
    "    hs.update({qubit:0})\n",
    "    \n",
    "    \n",
    "ann_sch=[[0.0,0.0],[10.0,0.7],[90.0,0.85],[100.0,1.0]]\n"
   ]
  },
  {
   "cell_type": "code",
   "execution_count": 47,
   "id": "9d85fec7",
   "metadata": {},
   "outputs": [
    {
     "name": "stdout",
     "output_type": "stream",
     "text": [
      "   0  1  2  3  4  5  6  7  8  9 10 11 12 13 14 15 16 ... 2047  energy num_oc.\n",
      "0 -1 -1 -1 -1 -1 -1 -1 -1 -1 -1 -1 -1 -1 -1 -1 -1 -1 ...   -1 -5974.0     100\n",
      "['SPIN', 1 rows, 100 samples, 2041 variables]\n"
     ]
    },
    {
     "data": {
      "text/plain": [
       "'http://127.0.0.1:18000/?problemId=16bdbc8d-0fa7-47ce-8290-7eb7d182d181'"
      ]
     },
     "execution_count": 47,
     "metadata": {},
     "output_type": "execute_result"
    }
   ],
   "source": [
    "resp=sampler.sample_ising(hs, couplers, num_reads=100,\n",
    "#                           anneal_schedule=ann_sch\n",
    "                         )\n",
    "print(resp)\n",
    "dwave.inspector.show(resp)"
   ]
  },
  {
   "cell_type": "code",
   "execution_count": 19,
   "id": "a3332dd4",
   "metadata": {},
   "outputs": [
    {
     "data": {
      "text/plain": [
       "5974"
      ]
     },
     "execution_count": 19,
     "metadata": {},
     "output_type": "execute_result"
    }
   ],
   "source": [
    "len(couplers)"
   ]
  },
  {
   "cell_type": "code",
   "execution_count": null,
   "id": "3002d758",
   "metadata": {},
   "outputs": [],
   "source": []
  }
 ],
 "metadata": {
  "kernelspec": {
   "display_name": "Python 3 (ipykernel)",
   "language": "python",
   "name": "python3"
  },
  "language_info": {
   "codemirror_mode": {
    "name": "ipython",
    "version": 3
   },
   "file_extension": ".py",
   "mimetype": "text/x-python",
   "name": "python",
   "nbconvert_exporter": "python",
   "pygments_lexer": "ipython3",
   "version": "3.9.7"
  }
 },
 "nbformat": 4,
 "nbformat_minor": 5
}
