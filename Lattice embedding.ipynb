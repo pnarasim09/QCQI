{
 "cells": [
  {
   "cell_type": "code",
   "execution_count": 3,
   "id": "bad53a92",
   "metadata": {},
   "outputs": [],
   "source": [
    "import numpy as np\n",
    "import dimod\n",
    "import matplotlib.pyplot as plt\n",
    "import dwave_networkx as dnx\n",
    "import networkx as nx\n",
    "import minorminer\n",
    "import minorminer.layout as mml\n",
    "from minorminer import busclique\n",
    "%matplotlib inline"
   ]
  },
  {
   "cell_type": "markdown",
   "id": "331c1710",
   "metadata": {},
   "source": [
    "Lattices"
   ]
  },
  {
   "cell_type": "code",
   "execution_count": 4,
   "id": "20857e6c",
   "metadata": {},
   "outputs": [],
   "source": [
    "squarelattice=[\n",
    "    \n",
    "    #horizontal bonds\n",
    "    (0,1), (1,2), (1,3),\n",
    "    (4,5), (5,6), (6,7),\n",
    "    (8,9), (9,10), (10,11),\n",
    "    (12,13), (13,14), (14,15),\n",
    "    \n",
    "    #vertical bonds\n",
    "    (0,4), (1,5), (2,6), (3,7),\n",
    "    (4,8), (5,9), (6,10), (7,11),\n",
    "    (8,12), (9,13), (10,14), (11,15)\n",
    "]"
   ]
  },
  {
   "cell_type": "markdown",
   "id": "2eafb9ef",
   "metadata": {},
   "source": [
    "Target graphs"
   ]
  },
  {
   "cell_type": "code",
   "execution_count": 19,
   "id": "4a5311fa",
   "metadata": {},
   "outputs": [],
   "source": [
    "chimera=dnx.chimera_graph(6,6)"
   ]
  },
  {
   "cell_type": "code",
   "execution_count": 20,
   "id": "6df3bdfc",
   "metadata": {},
   "outputs": [
    {
     "name": "stdout",
     "output_type": "stream",
     "text": [
      "{(0, 1): (0, 48, 96, 144, 192, 240, 4), (1, 2): (1, 49, 97, 145, 193, 241, 5), (1, 3): (2, 50, 98, 146, 194, 242, 6), (4, 5): (3, 51, 99, 147, 195, 243, 7), (5, 6): (56, 104, 152, 200, 248, 52, 60), (6, 7): (57, 105, 153, 201, 249, 53, 61), (8, 9): (58, 106, 154, 202, 250, 54, 62), (9, 10): (59, 107, 155, 203, 251, 55, 63), (10, 11): (112, 160, 208, 256, 100, 108, 116), (12, 13): (113, 161, 209, 257, 101, 109, 117), (13, 14): (114, 162, 210, 258, 102, 110, 118), (14, 15): (115, 163, 211, 259, 103, 111, 119), (0, 4): (168, 216, 264, 148, 156, 164, 172), (1, 5): (169, 217, 265, 149, 157, 165, 173), (2, 6): (170, 218, 266, 150, 158, 166, 174), (3, 7): (171, 219, 267, 151, 159, 167, 175), (4, 8): (224, 272, 196, 204, 212, 220, 228), (5, 9): (225, 273, 197, 205, 213, 221, 229), (6, 10): (226, 274, 198, 206, 214, 222, 230), (7, 11): (227, 275, 199, 207, 215, 223, 231), (8, 12): (280, 244, 252, 260, 268, 276, 284), (9, 13): (281, 245, 253, 261, 269, 277, 285), (10, 14): (282, 246, 254, 262, 270, 278, 286), (11, 15): (283, 247, 255, 263, 271, 279, 287)}\n"
     ]
    }
   ],
   "source": [
    "squareembedding=busclique.find_clique_embedding(squarelattice,chimera)\n",
    "print(squareembedding)"
   ]
  },
  {
   "cell_type": "code",
   "execution_count": null,
   "id": "2dd783d9",
   "metadata": {},
   "outputs": [],
   "source": []
  },
  {
   "cell_type": "code",
   "execution_count": null,
   "id": "54b0dc3e",
   "metadata": {},
   "outputs": [],
   "source": []
  }
 ],
 "metadata": {
  "kernelspec": {
   "display_name": "Python 3 (ipykernel)",
   "language": "python",
   "name": "python3"
  },
  "language_info": {
   "codemirror_mode": {
    "name": "ipython",
    "version": 3
   },
   "file_extension": ".py",
   "mimetype": "text/x-python",
   "name": "python",
   "nbconvert_exporter": "python",
   "pygments_lexer": "ipython3",
   "version": "3.9.7"
  }
 },
 "nbformat": 4,
 "nbformat_minor": 5
}
