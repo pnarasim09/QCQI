{
 "cells": [
  {
   "cell_type": "code",
   "execution_count": 1,
   "id": "476fd711",
   "metadata": {},
   "outputs": [],
   "source": [
    "import numpy as np\n",
    "import dimod\n",
    "import matplotlib.pyplot as plt\n",
    "import dwave_networkx as dnx\n",
    "import networkx as nx\n",
    "import minorminer\n",
    "import minorminer.layout as mml\n",
    "%matplotlib inline\n",
    "import dwave.inspector"
   ]
  },
  {
   "cell_type": "code",
   "execution_count": 2,
   "id": "787628c5",
   "metadata": {},
   "outputs": [
    {
     "name": "stdout",
     "output_type": "stream",
     "text": [
      "Connected to Advantage Advantage_system6.1 and 2000Q DW_2000Q_6.\n"
     ]
    }
   ],
   "source": [
    "import os\n",
    "\n",
    "from dwave.system.samplers import DWaveSampler\n",
    "from dwave.cloud.exceptions import *\n",
    "\n",
    "try:\n",
    "    qpu_advantage = DWaveSampler(solver={'topology__type': 'pegasus'},token=\"\")\n",
    "    qpu_2000q = DWaveSampler(solver={'topology__type': 'chimera'},token=\"\")\n",
    "    \n",
    "    qpus = {'Advantage': qpu_advantage, 'DW-2000Q': qpu_2000q}\n",
    "\n",
    "    print(\"Connected to Advantage {} and 2000Q {}.\".format(qpu_advantage.solver.id, qpu_2000q.solver.id))\n",
    "except SolverNotFoundError:\n",
    "    print(\"Currently a pair of solvers are unavailable for sections comparing QPU technologies. Try those examples later.\")"
   ]
  },
  {
   "cell_type": "code",
   "execution_count": 3,
   "id": "86a1107d",
   "metadata": {},
   "outputs": [
    {
     "name": "stdout",
     "output_type": "stream",
     "text": [
      "QPU DW_2000Q_6 was selected.\n"
     ]
    }
   ],
   "source": [
    "from dwave.system import DWaveSampler\n",
    "\n",
    "# Use a D-Wave system as the sampler\n",
    "sampler = DWaveSampler(solver=dict(topology__type='chimera'),token=\"DEV-5fa1054cd25ed5a94ead77ab54c60e280f772f28\")\n",
    "\n",
    "print(\"QPU {} was selected.\".format(sampler.solver.name))"
   ]
  },
  {
   "cell_type": "code",
   "execution_count": 4,
   "id": "808e7668",
   "metadata": {},
   "outputs": [
    {
     "name": "stdout",
     "output_type": "stream",
     "text": [
      "[0, 1, 2, 3, 4, 5, 6, 7, 8, 9, 10, 11, 12, 13, 14, 15, 128, 129, 130, 131, 132, 133, 134, 135, 136, 137, 138, 139, 140, 141, 142, 143]\n",
      "there are 32 nodes\n"
     ]
    }
   ],
   "source": [
    "nodes = []\n",
    "\n",
    "for i in range(16):\n",
    "    nodes.append(i)\n",
    "for i in range(128,144):\n",
    "    nodes.append(i)\n",
    "    \n",
    "print(nodes)\n",
    "print('there are',len(nodes),'nodes')"
   ]
  },
  {
   "cell_type": "code",
   "execution_count": 5,
   "id": "36779bf7",
   "metadata": {},
   "outputs": [],
   "source": [
    "chain_coupling=-2.0\n",
    "coupling=1\n",
    "\n",
    "\n",
    "# 4 2-qubit chains per star\n",
    "ucchains={\n",
    "    (0,4):chain_coupling, (1,5):chain_coupling, (2,6):chain_coupling, (3,7):chain_coupling,\n",
    "    (8,12):chain_coupling, (11,13):chain_coupling, (10,14):chain_coupling, (9,15):chain_coupling,\n",
    "    (128,132):chain_coupling, (129,133):chain_coupling, (130,134):chain_coupling, (131,135):chain_coupling,\n",
    "    (136,140):chain_coupling, (137,141):chain_coupling, (138,142):chain_coupling, (139,143):chain_coupling\n",
    "}\n",
    "\n",
    "# 4 internal couplings per star\n",
    "ucinternal={\n",
    "    (0,5):coupling, (3,6):coupling, (0,7):coupling, (2,5):coupling,\n",
    "    (8,13):coupling, (11,14):coupling, (8,15):coupling, (10,13):coupling,\n",
    "    (128,133):coupling, (131,134):coupling, (128,135):coupling, (130,133):coupling,\n",
    "    (136,141):coupling, (139,142):coupling, (136,143):coupling, (138,141):coupling\n",
    "}\n",
    "\n",
    "# 8 external couplers\n",
    "ucexternal={\n",
    "    (5,13):coupling, (6,14):coupling,\n",
    "    (10,138):coupling, (11,139):coupling,\n",
    "    (133,141):coupling, (134,142):coupling,\n",
    "    (2,130):coupling, (3,131):coupling\n",
    "}\n",
    "\n",
    "\n",
    "ucedges= dict(ucchains)\n",
    "ucedges.update(ucinternal)\n",
    "ucedges.update(ucexternal)"
   ]
  },
  {
   "cell_type": "code",
   "execution_count": 6,
   "id": "5b01ed51",
   "metadata": {},
   "outputs": [
    {
     "name": "stdout",
     "output_type": "stream",
     "text": [
      "{(0, 4): -2.0, (1, 5): -2.0, (2, 6): -2.0, (3, 7): -2.0, (8, 12): -2.0, (11, 13): -2.0, (10, 14): -2.0, (9, 15): -2.0, (128, 132): -2.0, (129, 133): -2.0, (130, 134): -2.0, (131, 135): -2.0, (136, 140): -2.0, (137, 141): -2.0, (138, 142): -2.0, (139, 143): -2.0, (0, 5): 1, (3, 6): 1, (0, 7): 1, (2, 5): 1, (8, 13): 1, (11, 14): 1, (8, 15): 1, (10, 13): 1, (128, 133): 1, (131, 134): 1, (128, 135): 1, (130, 133): 1, (136, 141): 1, (139, 142): 1, (136, 143): 1, (138, 141): 1, (5, 13): 1, (6, 14): 1, (10, 138): 1, (11, 139): 1, (133, 141): 1, (134, 142): 1, (2, 130): 1, (3, 131): 1}\n",
      "there are 40 edges in the unit cell\n"
     ]
    }
   ],
   "source": [
    "print(ucedges)\n",
    "print('there are',len(ucedges),'edges in the unit cell')"
   ]
  },
  {
   "cell_type": "code",
   "execution_count": 7,
   "id": "c3f47010",
   "metadata": {
    "scrolled": true
   },
   "outputs": [
    {
     "name": "stdout",
     "output_type": "stream",
     "text": [
      "[(0, 4), (1, 5), (2, 6), (3, 7), (8, 12), (11, 13), (10, 14), (9, 15), (128, 132), (129, 133), (130, 134), (131, 135), (136, 140), (137, 141), (138, 142), (139, 143), (0, 5), (3, 6), (0, 7), (2, 5), (8, 13), (11, 14), (8, 15), (10, 13), (128, 133), (131, 134), (128, 135), (130, 133), (136, 141), (139, 142), (136, 143), (138, 141), (5, 13), (6, 14), (10, 138), (11, 139), (133, 141), (134, 142), (2, 130), (3, 131)]\n"
     ]
    }
   ],
   "source": [
    "uccouplers=list(ucedges.keys())\n",
    "print(uccouplers)"
   ]
  },
  {
   "cell_type": "code",
   "execution_count": 8,
   "id": "ff3c218a",
   "metadata": {},
   "outputs": [],
   "source": [
    "xtiling={\n",
    "    (12,20):coupling, (15,23):coupling,\n",
    "    (140,148):coupling, (143,151):coupling\n",
    "}\n",
    "ytiling={\n",
    "    (128,256):coupling, (129,257):coupling,\n",
    "    (136,264):coupling, (137,265):coupling\n",
    "}"
   ]
  },
  {
   "cell_type": "code",
   "execution_count": 9,
   "id": "d285c288",
   "metadata": {},
   "outputs": [],
   "source": [
    "def NxNtile(N):\n",
    "    ucreg=[]\n",
    "    ucreg.append(ucedges)\n",
    "    "
   ]
  },
  {
   "cell_type": "code",
   "execution_count": 10,
   "id": "c06ed2c8",
   "metadata": {},
   "outputs": [
    {
     "data": {
      "text/plain": [
       "True"
      ]
     },
     "execution_count": 10,
     "metadata": {},
     "output_type": "execute_result"
    }
   ],
   "source": [
    "all(qubit in sampler.nodelist for qubit in nodes)"
   ]
  },
  {
   "cell_type": "code",
   "execution_count": 11,
   "id": "81c7567f",
   "metadata": {},
   "outputs": [
    {
     "ename": "NameError",
     "evalue": "name 'couplers' is not defined",
     "output_type": "error",
     "traceback": [
      "\u001b[0;31m---------------------------------------------------------------------------\u001b[0m",
      "\u001b[0;31mNameError\u001b[0m                                 Traceback (most recent call last)",
      "\u001b[0;32m/var/folders/zs/mxrf7g1s4k35743ybk1s2n200000gn/T/ipykernel_67202/811809378.py\u001b[0m in \u001b[0;36m<module>\u001b[0;34m\u001b[0m\n\u001b[0;32m----> 1\u001b[0;31m \u001b[0mall\u001b[0m\u001b[0;34m(\u001b[0m\u001b[0mcoupler\u001b[0m \u001b[0;32min\u001b[0m \u001b[0msampler\u001b[0m\u001b[0;34m.\u001b[0m\u001b[0medgelist\u001b[0m \u001b[0;32mfor\u001b[0m \u001b[0mcoupler\u001b[0m \u001b[0;32min\u001b[0m \u001b[0mcouplers\u001b[0m\u001b[0;34m)\u001b[0m\u001b[0;34m\u001b[0m\u001b[0;34m\u001b[0m\u001b[0m\n\u001b[0m",
      "\u001b[0;31mNameError\u001b[0m: name 'couplers' is not defined"
     ]
    }
   ],
   "source": [
    "all(coupler in sampler.edgelist for coupler in couplers)"
   ]
  },
  {
   "cell_type": "code",
   "execution_count": 12,
   "id": "767d38e0",
   "metadata": {},
   "outputs": [
    {
     "name": "stdout",
     "output_type": "stream",
     "text": [
      "0 is found in list\n",
      "1 is found in list\n",
      "2 is found in list\n",
      "3 is found in list\n",
      "4 is found in list\n",
      "5 is found in list\n",
      "6 is found in list\n",
      "7 is found in list\n",
      "8 is found in list\n",
      "9 is found in list\n",
      "10 is found in list\n",
      "11 is found in list\n",
      "12 is found in list\n",
      "13 is found in list\n",
      "14 is found in list\n",
      "15 is found in list\n",
      "128 is found in list\n",
      "129 is found in list\n",
      "130 is found in list\n",
      "131 is found in list\n",
      "132 is found in list\n",
      "133 is found in list\n",
      "134 is found in list\n",
      "135 is found in list\n",
      "136 is found in list\n",
      "137 is found in list\n",
      "138 is found in list\n",
      "139 is found in list\n",
      "140 is found in list\n",
      "141 is found in list\n",
      "142 is found in list\n",
      "143 is found in list\n"
     ]
    }
   ],
   "source": [
    "for node in nodes:\n",
    "    if node in sampler.nodelist:\n",
    "        print(node, 'is found in list')\n",
    "    else:\n",
    "        print(node, 'is not found in list')"
   ]
  },
  {
   "cell_type": "code",
   "execution_count": 13,
   "id": "0a1e58cc",
   "metadata": {},
   "outputs": [
    {
     "ename": "NameError",
     "evalue": "name 'couplers' is not defined",
     "output_type": "error",
     "traceback": [
      "\u001b[0;31m---------------------------------------------------------------------------\u001b[0m",
      "\u001b[0;31mNameError\u001b[0m                                 Traceback (most recent call last)",
      "\u001b[0;32m/var/folders/zs/mxrf7g1s4k35743ybk1s2n200000gn/T/ipykernel_67202/864436919.py\u001b[0m in \u001b[0;36m<module>\u001b[0;34m\u001b[0m\n\u001b[0;32m----> 1\u001b[0;31m \u001b[0;32mfor\u001b[0m \u001b[0mcoupler\u001b[0m \u001b[0;32min\u001b[0m \u001b[0mcouplers\u001b[0m\u001b[0;34m:\u001b[0m\u001b[0;34m\u001b[0m\u001b[0;34m\u001b[0m\u001b[0m\n\u001b[0m\u001b[1;32m      2\u001b[0m     \u001b[0;32mif\u001b[0m \u001b[0mcoupler\u001b[0m \u001b[0;32min\u001b[0m \u001b[0msampler\u001b[0m\u001b[0;34m.\u001b[0m\u001b[0medgelist\u001b[0m\u001b[0;34m:\u001b[0m\u001b[0;34m\u001b[0m\u001b[0;34m\u001b[0m\u001b[0m\n\u001b[1;32m      3\u001b[0m         \u001b[0mprint\u001b[0m\u001b[0;34m(\u001b[0m\u001b[0mcoupler\u001b[0m\u001b[0;34m,\u001b[0m \u001b[0;34m'is found in list'\u001b[0m\u001b[0;34m)\u001b[0m\u001b[0;34m\u001b[0m\u001b[0;34m\u001b[0m\u001b[0m\n\u001b[1;32m      4\u001b[0m     \u001b[0;32melse\u001b[0m\u001b[0;34m:\u001b[0m\u001b[0;34m\u001b[0m\u001b[0;34m\u001b[0m\u001b[0m\n\u001b[1;32m      5\u001b[0m         \u001b[0mprint\u001b[0m\u001b[0;34m(\u001b[0m\u001b[0mcoupler\u001b[0m\u001b[0;34m,\u001b[0m \u001b[0;34m'is not found in list'\u001b[0m\u001b[0;34m)\u001b[0m\u001b[0;34m\u001b[0m\u001b[0;34m\u001b[0m\u001b[0m\n",
      "\u001b[0;31mNameError\u001b[0m: name 'couplers' is not defined"
     ]
    }
   ],
   "source": [
    "for coupler in couplers:\n",
    "    if coupler in sampler.edgelist:\n",
    "        print(coupler, 'is found in list')\n",
    "    else:\n",
    "        print(coupler, 'is not found in list')"
   ]
  },
  {
   "cell_type": "code",
   "execution_count": 14,
   "id": "b51676cf",
   "metadata": {},
   "outputs": [
    {
     "ename": "NameError",
     "evalue": "name 'edges' is not defined",
     "output_type": "error",
     "traceback": [
      "\u001b[0;31m---------------------------------------------------------------------------\u001b[0m",
      "\u001b[0;31mNameError\u001b[0m                                 Traceback (most recent call last)",
      "\u001b[0;32m/var/folders/zs/mxrf7g1s4k35743ybk1s2n200000gn/T/ipykernel_67202/4215962226.py\u001b[0m in \u001b[0;36m<module>\u001b[0;34m\u001b[0m\n\u001b[1;32m      1\u001b[0m \u001b[0mh\u001b[0m\u001b[0;34m=\u001b[0m\u001b[0;34m{\u001b[0m\u001b[0;34m}\u001b[0m\u001b[0;34m\u001b[0m\u001b[0;34m\u001b[0m\u001b[0m\n\u001b[0;32m----> 2\u001b[0;31m \u001b[0mresponse\u001b[0m \u001b[0;34m=\u001b[0m \u001b[0msampler\u001b[0m\u001b[0;34m.\u001b[0m\u001b[0msample_ising\u001b[0m\u001b[0;34m(\u001b[0m\u001b[0mh\u001b[0m\u001b[0;34m,\u001b[0m \u001b[0medges\u001b[0m\u001b[0;34m,\u001b[0m \u001b[0mnum_reads\u001b[0m\u001b[0;34m=\u001b[0m\u001b[0;36m100\u001b[0m\u001b[0;34m)\u001b[0m\u001b[0;34m\u001b[0m\u001b[0;34m\u001b[0m\u001b[0m\n\u001b[0m",
      "\u001b[0;31mNameError\u001b[0m: name 'edges' is not defined"
     ]
    }
   ],
   "source": [
    "h={}\n",
    "response = sampler.sample_ising(h, edges, num_reads=100)"
   ]
  },
  {
   "cell_type": "code",
   "execution_count": 14,
   "id": "356b0334",
   "metadata": {},
   "outputs": [
    {
     "name": "stdout",
     "output_type": "stream",
     "text": [
      "   0  1  2  3  4  5  6  7  8  9 10 11 12 13 14 15 128 ... 143 energy num_oc.\n",
      "0 -1 +1 -1 +1 -1 +1 -1 +1 +1 -1 +1 -1 +1 -1 +1 -1  +1 ...  +1  -56.0      69\n",
      "1 +1 -1 +1 -1 +1 -1 +1 -1 -1 +1 -1 +1 -1 +1 -1 +1  -1 ...  -1  -56.0      31\n",
      "['SPIN', 2 rows, 100 samples, 32 variables]\n"
     ]
    }
   ],
   "source": [
    "print(response)"
   ]
  },
  {
   "cell_type": "code",
   "execution_count": 15,
   "id": "90b08ed3",
   "metadata": {},
   "outputs": [
    {
     "data": {
      "text/plain": [
       "'http://127.0.0.1:18000/?problemId=2c450873-0d62-4638-94d8-77cf0ca54152'"
      ]
     },
     "execution_count": 15,
     "metadata": {},
     "output_type": "execute_result"
    }
   ],
   "source": [
    "dwave.inspector.show(response)"
   ]
  },
  {
   "cell_type": "code",
   "execution_count": null,
   "id": "e7ac7515",
   "metadata": {},
   "outputs": [],
   "source": []
  },
  {
   "cell_type": "code",
   "execution_count": null,
   "id": "c06bac80",
   "metadata": {},
   "outputs": [],
   "source": []
  },
  {
   "cell_type": "code",
   "execution_count": null,
   "id": "aee9ccac",
   "metadata": {},
   "outputs": [],
   "source": []
  }
 ],
 "metadata": {
  "kernelspec": {
   "display_name": "Python 3 (ipykernel)",
   "language": "python",
   "name": "python3"
  },
  "language_info": {
   "codemirror_mode": {
    "name": "ipython",
    "version": 3
   },
   "file_extension": ".py",
   "mimetype": "text/x-python",
   "name": "python",
   "nbconvert_exporter": "python",
   "pygments_lexer": "ipython3",
   "version": "3.9.7"
  }
 },
 "nbformat": 4,
 "nbformat_minor": 5
}
