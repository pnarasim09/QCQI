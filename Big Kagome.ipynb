{
 "cells": [
  {
   "cell_type": "code",
   "execution_count": 1,
   "id": "d29d1a7b",
   "metadata": {},
   "outputs": [],
   "source": [
    "import numpy as np\n",
    "import dimod\n",
    "import matplotlib.pyplot as plt\n",
    "import dwave_networkx as dnx\n",
    "import networkx as nx\n",
    "import minorminer\n",
    "import minorminer.layout as mml\n",
    "%matplotlib inline\n",
    "import dwave.inspector\n",
    "import matplotlib as mpl"
   ]
  },
  {
   "cell_type": "code",
   "execution_count": 2,
   "id": "bb0526ec",
   "metadata": {},
   "outputs": [
    {
     "name": "stdout",
     "output_type": "stream",
     "text": [
      "Connected to Advantage Advantage_system6.1 and 2000Q DW_2000Q_6.\n"
     ]
    }
   ],
   "source": [
    "import os\n",
    "\n",
    "from dwave.system.samplers import DWaveSampler\n",
    "from dwave.cloud.exceptions import *\n",
    "\n",
    "try:\n",
    "    qpu_advantage = DWaveSampler(solver={'topology__type': 'pegasus'},token=\" \")\n",
    "    qpu_2000q = DWaveSampler(solver={'topology__type': 'chimera'},token=\" \")\n",
    "    \n",
    "    qpus = {'Advantage': qpu_advantage, 'DW-2000Q': qpu_2000q}\n",
    "\n",
    "    print(\"Connected to Advantage {} and 2000Q {}.\".format(qpu_advantage.solver.id, qpu_2000q.solver.id))\n",
    "except SolverNotFoundError:\n",
    "    print(\"Currently a pair of solvers are unavailable for sections comparing QPU technologies. Try those examples later.\")"
   ]
  },
  {
   "cell_type": "code",
   "execution_count": 3,
   "id": "0f753abb",
   "metadata": {},
   "outputs": [
    {
     "name": "stdout",
     "output_type": "stream",
     "text": [
      "QPU DW_2000Q_6 was selected.\n"
     ]
    }
   ],
   "source": [
    "from dwave.system import DWaveSampler\n",
    "\n",
    "# Use a D-Wave system as the sampler\n",
    "sampler = DWaveSampler(solver=dict(topology__type='chimera'),token=\"DEV-5fa1054cd25ed5a94ead77ab54c60e280f772f28\")\n",
    "\n",
    "print(\"QPU {} was selected.\".format(sampler.solver.name))"
   ]
  },
  {
   "cell_type": "code",
   "execution_count": 4,
   "id": "47eb1dac",
   "metadata": {},
   "outputs": [
    {
     "name": "stdout",
     "output_type": "stream",
     "text": [
      "{1: (1, 5), 4: (10, 15), 7: (130, 135), 10: (137, 141)}\n"
     ]
    }
   ],
   "source": [
    "#making a dictionary of sites and their corresponding 2chains. There are 4 2chains per unit cell\n",
    "sites_2chains={}\n",
    "sites_2chains.update({1:(1,5)})\n",
    "sites_2chains.update({4:(10,15)})\n",
    "sites_2chains.update({7:(130,135)})\n",
    "sites_2chains.update({10:(137,141)})\n",
    "print(sites_2chains)"
   ]
  },
  {
   "cell_type": "code",
   "execution_count": 5,
   "id": "cd5dce17",
   "metadata": {
    "scrolled": true
   },
   "outputs": [
    {
     "name": "stdout",
     "output_type": "stream",
     "text": [
      "{0: [(2, 6), (6, 14)], 2: [(7, 3), (3, 131)], 3: [(9, 12), (12, 20)], 5: [(13, 8), (8, 136)], 6: [(129, 132), (132, 140)], 8: [(133, 128), (128, 256)], 9: [(138, 142), (142, 150)], 11: [(143, 139), (139, 267)]}\n"
     ]
    }
   ],
   "source": [
    "#making a dictionary of sites and their corresponding 3chains. There are 8 3chains per unit cell\n",
    "sites_3chains={}\n",
    "sites_3chains.update({0:[(2,6),(6,14)]})\n",
    "sites_3chains.update({2:[(7,3),(3,131)]})\n",
    "sites_3chains.update({3:[(9,12),(12,20)]})\n",
    "sites_3chains.update({5:[(13,8),(8,136)]})\n",
    "sites_3chains.update({6:[(129,132),(132,140)]})\n",
    "sites_3chains.update({8:[(133,128),(128,256)]})\n",
    "sites_3chains.update({9:[(138,142),(142,150)]})\n",
    "sites_3chains.update({11:[(143,139),(139,267)]})\n",
    "print(sites_3chains)"
   ]
  },
  {
   "cell_type": "code",
   "execution_count": 6,
   "id": "a18067cf",
   "metadata": {},
   "outputs": [
    {
     "name": "stdout",
     "output_type": "stream",
     "text": [
      "{1: (1, 5), 4: (10, 15), 7: (130, 135), 10: (137, 141), 0: [(2, 6), (6, 14)], 2: [(7, 3), (3, 131)], 3: [(9, 12), (12, 20)], 5: [(13, 8), (8, 136)], 6: [(129, 132), (132, 140)], 8: [(133, 128), (128, 256)], 9: [(138, 142), (142, 150)], 11: [(143, 139), (139, 267)]}\n",
      "there are 12 chains (sites) per unit cell\n"
     ]
    }
   ],
   "source": [
    "#this is a dictionary of all sites in a unit cell and their corresponding chains\n",
    "sites_allchains={}\n",
    "sites_allchains.update(sites_2chains)\n",
    "sites_allchains.update(sites_3chains)\n",
    "print(sites_allchains)\n",
    "print(\"there are\", len(sites_allchains), \"chains (sites) per unit cell\")"
   ]
  },
  {
   "cell_type": "code",
   "execution_count": 7,
   "id": "8de420d8",
   "metadata": {},
   "outputs": [],
   "source": [
    "#chains and couplings within a 2x2 unit cell\n",
    "\n",
    "J=0.5\n",
    "unitcellmatrix = np.matrix([\n",
    "    [0,  1,2,3,5,6,7,8,9,10,12,13,14,15,20,128,129,130,131,132,133,135,136,137,138,139,140,141,142,143,150,256,267],\n",
    "    [1,  0,0,0,2,0,J,0,0,0, 0, 0, 0, 0, 0, 0,  J,  0,  0,  0,  0,  0,  0,  0,  0,  0,  0,  0,  0,  0,  0,  0,  0],\n",
    "    [2,  0,0,0,J,3,J,0,0,0, 0, 0, 0, 0, 0, 0,  0,  0,  0,  0,  0,  0,  0,  0,  0,  0,  0,  0,  0,  0,  0,  0,  0],\n",
    "    [3,  0,0,0,0,0,3,0,0,0, 0, 0, 0, 0, 0, 0,  0,  0,  3,  0,  0,  0,  0,  0,  0,  0,  0,  0,  0,  0,  0,  0,  0],\n",
    "    [5,  2,J,0,0,0,0,0,0,0, 0, J, 0, 0, 0, 0,  0,  0,  0,  0,  0,  0,  0,  0,  0,  0,  0,  0,  0,  0,  0,  0,  0],\n",
    "    [6,  0,3,0,0,0,0,0,0,0, 0, 0, 3, 0, 0, 0,  0,  0,  0,  0,  0,  0,  0,  0,  0,  0,  0,  0,  0,  0,  0,  0,  0],\n",
    "    [7,  J,J,3,0,0,0,0,0,0, 0, 0, 0, 0, 0, 0,  0,  0,  0,  0,  0,  0,  0,  0,  0,  0,  0,  0,  0,  0,  0,  0,  0],\n",
    "    [8,  0,0,0,0,0,0,0,0,0, 0, 3, 0, 0, 0, 0,  0,  0,  0,  0,  0,  0,  3,  0,  0,  0,  0,  0,  0,  0,  0,  0,  0],\n",
    "    [9,  0,0,0,0,0,0,0,0,0, 3, J, 0, J, 0, 0,  0,  0,  0,  0,  0,  0,  0,  0,  0,  0,  0,  0,  0,  0,  0,  0,  0],\n",
    "    [10, 0,0,0,0,0,0,0,0,0, 0, J, 0, 2, 0, 0,  0,  0,  0,  0,  0,  0,  0,  0,  J,  0,  0,  0,  0,  0,  0,  0,  0],\n",
    "    [12, 0,0,0,0,0,0,0,3,0, 0, 0, 0, 0, 3, 0,  0,  0,  0,  0,  0,  0,  0,  0,  0,  0,  0,  0,  0,  0,  0,  0,  0],\n",
    "    [13, 0,0,0,J,0,0,3,J,J, 0, 0, 0, 0, 0, 0,  0,  0,  0,  0,  0,  0,  0,  0,  0,  0,  0,  0,  0,  0,  0,  0,  0],\n",
    "    [14, 0,0,0,0,3,0,0,0,0, 0, 0, 0, 0, 0, 0,  0,  0,  0,  0,  0,  0,  0,  0,  0,  0,  0,  0,  0,  0,  0,  0,  0],\n",
    "    [15, 0,0,0,0,0,0,0,J,2, 0, 0, 0, 0, 0, 0,  0,  0,  0,  0,  0,  0,  0,  0,  0,  0,  0,  0,  0,  0,  0,  0,  0],\n",
    "    [20, 0,0,0,0,0,0,0,0,0, 3, 0, 0, 0, 0, 0,  0,  0,  0,  0,  0,  0,  0,  0,  0,  0,  0,  0,  0,  0,  0,  0,  0],\n",
    "    [128,0,0,0,0,0,0,0,0,0, 0, 0, 0, 0, 0, 0,  0,  0,  0,  0,  3,  0,  0,  0,  0,  0,  0,  0,  0,  0,  0,  3,  0],\n",
    "    [129,J,0,0,0,0,0,0,0,0, 0, 0, 0, 0, 0, 0,  0,  0,  0,  3,  J,  J,  0,  0,  0,  0,  0,  0,  0,  0,  0,  0,  0],\n",
    "    [130,0,0,0,0,0,0,0,0,0, 0, 0, 0, 0, 0, 0,  0,  0,  0,  0,  J,  2,  0,  0,  0,  0,  0,  0,  0,  0,  0,  0,  0],\n",
    "    [131,0,0,3,0,0,0,0,0,0, 0, 0, 0, 0, 0, 0,  0,  0,  0,  0,  0,  0,  0,  0,  0,  0,  0,  0,  0,  0,  0,  0,  0],\n",
    "    [132,0,0,0,0,0,0,0,0,0, 0, 0, 0, 0, 0, 0,  3,  0,  0,  0,  0,  0,  0,  0,  0,  0,  3,  0,  0,  0,  0,  0,  0],\n",
    "    [133,0,0,0,0,0,0,0,0,0, 0, 0, 0, 0, 0, 3,  J,  J,  0,  0,  0,  0,  0,  0,  0,  0,  0,  0,  0,  0,  0,  0,  0],\n",
    "    [135,0,0,0,0,0,0,0,0,0, 0, 0, 0, 0, 0, 0,  J,  2,  0,  0,  0,  0,  0,  0,  0,  0,  0,  0,  0,  J,  0,  0,  0],\n",
    "    [136,0,0,0,0,0,0,3,0,0, 0, 0, 0, 0, 0, 0,  0,  0,  0,  0,  0,  0,  0,  0,  0,  0,  J,  0,  0,  0,  0,  0,  0],\n",
    "    [137,0,0,0,0,0,0,0,0,0, 0, 0, 0, 0, 0, 0,  0,  0,  0,  0,  0,  0,  0,  0,  0,  0,  0,  2,  0,  J,  0,  0,  0],\n",
    "    [138,0,0,0,0,0,0,0,0,J, 0, 0, 0, 0, 0, 0,  0,  0,  0,  0,  0,  0,  0,  0,  0,  0,  0,  J,  3,  J,  0,  0,  0],\n",
    "    [139,0,0,0,0,0,0,0,0,0, 0, 0, 0, 0, 0, 0,  0,  0,  0,  0,  0,  0,  0,  0,  0,  0,  0,  0,  0,  3,  0,  0,  3],\n",
    "    [140,0,0,0,0,0,0,0,0,0, 0, 0, 0, 0, 0, 0,  0,  0,  0,  3,  0,  0,  J,  0,  0,  0,  0,  0,  0,  0,  0,  0,  0],\n",
    "    [141,0,0,0,0,0,0,0,0,0, 0, 0, 0, 0, 0, 0,  0,  0,  0,  0,  0,  0,  0,  2,  J,  0,  0,  0,  0,  0,  0,  0,  0],\n",
    "    [142,0,0,0,0,0,0,0,0,0, 0, 0, 0, 0, 0, 0,  0,  0,  0,  0,  0,  0,  0,  0,  3,  0,  0,  0,  0,  0,  3,  0,  0],\n",
    "    [143,0,0,0,0,0,0,0,0,0, 0, 0, 0, 0, 0, 0,  0,  0,  0,  0,  0,  J,  0,  J,  J,  3,  0,  0,  0,  0,  0,  0,  0],\n",
    "    [150,0,0,0,0,0,0,0,0,0, 0, 0, 0, 0, 0, 0,  0,  0,  0,  0,  0,  0,  0,  0,  0,  0,  0,  0,  3,  0,  0,  0,  0],\n",
    "    [256,0,0,0,0,0,0,0,0,0, 0, 0, 0, 0, 0, 3,  0,  0,  0,  0,  0,  0,  0,  0,  0,  0,  0,  0,  0,  0,  0,  0,  0],\n",
    "    [267,0,0,0,0,0,0,0,0,0, 0, 0, 0, 0, 0, 0,  0,  0,  0,  0,  0,  0,  0,  0,  0,  3,  0,  0,  0,  0,  0,  0,  0]\n",
    "])"
   ]
  },
  {
   "cell_type": "code",
   "execution_count": 8,
   "id": "73eede2e",
   "metadata": {},
   "outputs": [
    {
     "name": "stdout",
     "output_type": "stream",
     "text": [
      "[  1   2   3   5   6   7   8   9  10  12  13  14  15  20 128 129 130 131\n",
      " 132 133 135 136 137 138 139 140 141 142 143 150 256 267]\n",
      "There are 32 qubits per unit cell\n"
     ]
    }
   ],
   "source": [
    "# getting a list of the qubits included in a unit cell. The first row in the big matrix is the list of qubits.\n",
    "unitcellqubits=unitcellmatrix[0]\n",
    "#conoverting to array\n",
    "unitcellqubits=np.asarray(unitcellqubits)\n",
    "#converting from floats to ints\n",
    "unitcellqubits=unitcellqubits.astype(int)\n",
    "unitcellqubits=unitcellqubits[0]\n",
    "#deleting the 0 since it was a placeholder in the big matrix\n",
    "unitcellqubits=np.delete(unitcellqubits,0)\n",
    "print(unitcellqubits)\n",
    "print(\"There are\", len(unitcellqubits), \"qubits per unit cell\")"
   ]
  },
  {
   "cell_type": "code",
   "execution_count": 9,
   "id": "52fd668b",
   "metadata": {},
   "outputs": [
    {
     "data": {
      "text/plain": [
       "True"
      ]
     },
     "execution_count": 9,
     "metadata": {},
     "output_type": "execute_result"
    }
   ],
   "source": [
    "#checking symmetry of unit cell matrix to check for input errors\n",
    "unitcellmatrix.getT().all()==unitcellmatrix.all()"
   ]
  },
  {
   "cell_type": "code",
   "execution_count": 10,
   "id": "601c167b",
   "metadata": {},
   "outputs": [],
   "source": [
    "#this matrix contains the couplers necessary to tile the unit cell\n",
    "tilingmatrix = np.matrix([\n",
    "    [0,  15,23,130,137,141,147,149,150,258,265,267,270,256,260],\n",
    "    [15, 0, J, 0,  0,  0,  0,  0,  0,  0,  0,  0,  0,  0,  0],\n",
    "    [23, J, 0, 0,  0,  0,  0,  0,  0,  0,  0,  0,  0,  0,  0],\n",
    "    [130,0, 0, 0,  0,  0,  0,  0,  0,  J,  0,  0,  0,  0,  0],\n",
    "    [137,0, 0, 0,  0,  0,  0,  0,  0,  0,  J,  0,  0,  0,  0],\n",
    "    [141,0, 0, 0,  0,  0,  0,  J,  0,  0,  0,  0,  0,  0,  0],\n",
    "    [147,0, 0, 0,  0,  0,  0,  0,  J,  0,  0,  0,  0,  0,  0],\n",
    "    [149,0, 0, 0,  0,  J,  0,  0,  0,  0,  0,  0,  0,  0,  0],\n",
    "    [150,0, 0, 0,  0,  0,  J,  0,  0,  0,  0,  0,  0,  0,  0],\n",
    "    [258,0, 0, J,  0,  0,  0,  0,  0,  0,  0,  0,  0,  0,  0],\n",
    "    [265,0, 0, 0,  J,  0,  0,  0,  0,  0,  0,  0,  0,  0,  0],\n",
    "    [267,0, 0, 0,  0,  0,  0,  0,  0,  0,  0,  0,  J,  0,  0],\n",
    "    [270,0, 0, 0,  0,  0,  0,  0,  0,  0,  0,  J,  0,  0,  0],\n",
    "    [256,0, 0, 0,  0,  0,  0,  0,  0,  0,  0,  0,  0,  0,  J],\n",
    "    [260,0, 0, 0,  0,  0,  0,  0,  0,  0,  0,  0,  0,  J,  0]\n",
    "])"
   ]
  },
  {
   "cell_type": "code",
   "execution_count": 11,
   "id": "459fd1ac",
   "metadata": {},
   "outputs": [
    {
     "data": {
      "text/plain": [
       "True"
      ]
     },
     "execution_count": 11,
     "metadata": {},
     "output_type": "execute_result"
    }
   ],
   "source": [
    "#checking symmetry of tiling matrix to check for input errors\n",
    "tilingmatrix.getT().all()==tilingmatrix.all()"
   ]
  },
  {
   "cell_type": "code",
   "execution_count": 12,
   "id": "28486858",
   "metadata": {},
   "outputs": [
    {
     "name": "stdout",
     "output_type": "stream",
     "text": [
      "{(1.0, 5.0): -2.0, (10.0, 15.0): -2.0, (130.0, 135.0): -2.0, (137.0, 141.0): -2.0}\n",
      "There are 4 2chains per unit cell\n",
      "{(2.0, 6.0): -3.0, (3.0, 7.0): -3.0, (3.0, 131.0): -3.0, (6.0, 14.0): -3.0, (8.0, 13.0): -3.0, (8.0, 136.0): -3.0, (9.0, 12.0): -3.0, (12.0, 20.0): -3.0, (128.0, 133.0): -3.0, (128.0, 256.0): -3.0, (129.0, 132.0): -3.0, (132.0, 140.0): -3.0, (138.0, 142.0): -3.0, (139.0, 143.0): -3.0, (139.0, 267.0): -3.0, (142.0, 150.0): -3.0}\n",
      "There are 16 3chains per unit cell (when split into 2chains)\n",
      "{(1.0, 7.0): -1.0, (1.0, 129.0): -1.0, (2.0, 5.0): -1.0, (2.0, 7.0): -1.0, (5.0, 13.0): -1.0, (9.0, 13.0): -1.0, (9.0, 15.0): -1.0, (10.0, 13.0): -1.0, (10.0, 138.0): -1.0, (129.0, 133.0): -1.0, (129.0, 135.0): -1.0, (130.0, 133.0): -1.0, (135.0, 143.0): -1.0, (136.0, 140.0): -1.0, (137.0, 143.0): -1.0, (138.0, 141.0): -1.0, (138.0, 143.0): -1.0}\n",
      "There are 17 internal couplings per unit cell\n",
      "{(15.0, 23.0): -1.0, (130.0, 258.0): -1.0, (137.0, 265.0): -1.0, (141.0, 149.0): -1.0, (147.0, 150.0): -1.0, (267.0, 270.0): -1.0, (256.0, 260.0): -1.0}\n",
      "There are 7 tiling couplings\n",
      "There are 44 total couplings per unit cell\n"
     ]
    }
   ],
   "source": [
    "#keeping a record of the 2 qubit chains and their coupling values\n",
    "couplings_2chains={}\n",
    "jvalue_2chains=-2.0\n",
    "for i in range(1,unitcellmatrix.shape[0]):\n",
    "    for j in range(1,unitcellmatrix.shape[0]):\n",
    "        if unitcellmatrix[i,j]==2:\n",
    "            index1=i\n",
    "            index2=j\n",
    "            qubit1=unitcellmatrix[i,0]\n",
    "            qubit2=unitcellmatrix[0,j]\n",
    "            list=[qubit1,qubit2]\n",
    "            #this gets rid of repeats. ie, (1,5) and (5,1)\n",
    "            list.sort()\n",
    "            couplings_2chains.update({(list[0],list[1]):jvalue_2chains})\n",
    "print(couplings_2chains)\n",
    "print(\"There are\",len(couplings_2chains),\"2chains per unit cell\")\n",
    "\n",
    "#keeping a record of the 3 qubit chains and their coupling values\n",
    "couplings_3chains={}\n",
    "jvalue_3chains=-3.0\n",
    "for i in range(1,unitcellmatrix.shape[0]):\n",
    "    for j in range(1,unitcellmatrix.shape[0]):\n",
    "        if unitcellmatrix[i,j]==3:\n",
    "            index1=i\n",
    "            index2=j\n",
    "            qubit1=unitcellmatrix[i,0]\n",
    "            qubit2=unitcellmatrix[0,j]\n",
    "            list=[qubit1,qubit2]\n",
    "            #this gets rid of repeats. ie, (2,6) and (6,2)\n",
    "            list.sort()\n",
    "            couplings_3chains.update({(list[0],list[1]):jvalue_3chains})\n",
    "print(couplings_3chains)\n",
    "print(\"There are\",len(couplings_3chains),\"3chains per unit cell (when split into 2chains)\")\n",
    "\n",
    "#keeping a record of the internal couplings and their coupling values\n",
    "couplings_internal={}\n",
    "jvalue_internal=-1.0\n",
    "for i in range(1,unitcellmatrix.shape[0]):\n",
    "    for j in range(1,unitcellmatrix.shape[0]):\n",
    "        if unitcellmatrix[i,j]==J:\n",
    "            index1=i\n",
    "            index2=j\n",
    "            qubit1=unitcellmatrix[i,0]\n",
    "            qubit2=unitcellmatrix[0,j]\n",
    "            list=[qubit1,qubit2]\n",
    "            #this gets rid of repeats. ie, (2,6) and (6,2)\n",
    "            list.sort()\n",
    "            couplings_internal.update({(list[0],list[1]):jvalue_internal})\n",
    "print(couplings_internal)\n",
    "print(\"There are\",len(couplings_internal),\"internal couplings per unit cell\")\n",
    "\n",
    "#keeping a record of the tiling couplings and their coupling values\n",
    "couplings_tiling={}\n",
    "jvalue_tiling=-1.0\n",
    "for i in range(1,tilingmatrix.shape[0]):\n",
    "    for j in range(1,tilingmatrix.shape[0]):\n",
    "        if tilingmatrix[i,j]==J:\n",
    "            index1=i\n",
    "            index2=j\n",
    "            qubit1=tilingmatrix[i,0]\n",
    "            qubit2=tilingmatrix[0,j]\n",
    "            list=[qubit1,qubit2]\n",
    "            #this gets rid of repeats. ie, (2,6) and (6,2)\n",
    "            list.sort()\n",
    "            couplings_tiling.update({(list[0],list[1]):jvalue_tiling})\n",
    "print(couplings_tiling)\n",
    "print(\"There are\",len(couplings_tiling),\"tiling couplings\")\n",
    "\n",
    "#Dictionary with all chains, internal couplings, and tiling couplings\n",
    "couplings_all_unit={}\n",
    "couplings_all_unit.update(couplings_2chains)\n",
    "couplings_all_unit.update(couplings_3chains)\n",
    "couplings_all_unit.update(couplings_internal)\n",
    "couplings_all_unit.update(couplings_tiling)\n",
    "\n",
    "print(\"There are\",len(couplings_all_unit),\"total couplings per unit cell\")"
   ]
  },
  {
   "cell_type": "code",
   "execution_count": 13,
   "id": "715fdf02",
   "metadata": {},
   "outputs": [
    {
     "name": "stdout",
     "output_type": "stream",
     "text": [
      "all couplers in unit cell are good\n"
     ]
    }
   ],
   "source": [
    "import termcolor\n",
    "from termcolor import colored\n",
    "\n",
    "#checking that the couplers in the unit cell are present in the system\n",
    "\n",
    "if all(coupler in sampler.edgelist for coupler in couplings_all_unit.keys())==True:\n",
    "    print(\"all couplers in unit cell are good\")\n",
    "else:\n",
    "    for coupler in couplings_all_unit.keys():\n",
    "        if coupler in sampler.edgelist:\n",
    "            print(colored(coupler, 'green'), colored('is found in list', 'green'))\n",
    "        else:\n",
    "            print(colored(coupler, 'red'), colored('is not found in list', 'red'))"
   ]
  },
  {
   "cell_type": "code",
   "execution_count": 14,
   "id": "4cbb923a",
   "metadata": {},
   "outputs": [],
   "source": [
    "#this matrix will be added on to the base unit cell matrix to tile to the right (+16)\n",
    "unitcell_plus16 = np.zeros(unitcellmatrix.shape)\n",
    "for i in range(1,unitcellmatrix.shape[0]):\n",
    "    unitcell_plus16[0][i]=16\n",
    "    unitcell_plus16[i][0]=16\n",
    "unitcell_plus16=np.asmatrix(unitcell_plus16)\n",
    "\n",
    "#this matrix will be added on to the base unit cell matrix to tile down (+256)\n",
    "unitcell_plus256 = np.zeros(unitcellmatrix.shape)\n",
    "for i in range(1,unitcellmatrix.shape[0]):\n",
    "    unitcell_plus256[0][i]=256\n",
    "    unitcell_plus256[i][0]=256\n",
    "unitcell_plus256=np.asmatrix(unitcell_plus256)\n",
    "\n",
    "#print(unitcell_plus16,unitcell_plus16.shape)\n",
    "#print(unitcell_plus256,unitcell_plus256.shape)"
   ]
  },
  {
   "cell_type": "code",
   "execution_count": 15,
   "id": "66855780",
   "metadata": {},
   "outputs": [],
   "source": [
    "#this matrix will be added on to the base tiling matrix to tile to the right (+16)\n",
    "tiling_plus16 = np.zeros((15,15))\n",
    "for i in range(1,tilingmatrix.shape[0]):\n",
    "    tiling_plus16[0][i]=16\n",
    "    tiling_plus16[i][0]=16\n",
    "tiling_plus16=np.asmatrix(tiling_plus16)\n",
    "\n",
    "#this matrix will be added on to the base tiling matrix to tile down (+256)\n",
    "tiling_plus256 = np.zeros((15,15))\n",
    "for i in range(1,tilingmatrix.shape[0]):\n",
    "    tiling_plus256[0][i]=256\n",
    "    tiling_plus256[i][0]=256\n",
    "tiling_plus256=np.asmatrix(tiling_plus256)\n",
    "\n",
    "#print(tiling_plus16,tiling_plus16.shape)\n",
    "#print(tiling_plus256,tiling_plus256.shape)"
   ]
  },
  {
   "cell_type": "code",
   "execution_count": 16,
   "id": "a4ddaa2a",
   "metadata": {},
   "outputs": [
    {
     "name": "stdout",
     "output_type": "stream",
     "text": [
      "((33, 33), (15, 15)) ((33, 33), (15, 15))\n",
      "((33, 33), (15, 15)) ((33, 33), (15, 15))\n"
     ]
    }
   ],
   "source": [
    "#checking the shape of the unitcell/tiling matrix vs the translation matrices\n",
    "\n",
    "print((unitcellmatrix.shape,tilingmatrix.shape),(unitcell_plus16.shape,tiling_plus16.shape))\n",
    "print((unitcellmatrix.shape,tilingmatrix.shape),(unitcell_plus256.shape,tiling_plus256.shape))"
   ]
  },
  {
   "cell_type": "code",
   "execution_count": 17,
   "id": "b9aa37eb",
   "metadata": {},
   "outputs": [],
   "source": [
    "#function that tiles a unitcell to the right once\n",
    "def tile_right(unitcellmat,tilingmat):\n",
    "    \n",
    "    tileright_unitcell=unitcellmat+unitcell_plus16\n",
    "    tileright_tiling=tilingmat+tiling_plus16\n",
    "    \n",
    "    return tileright_unitcell,tileright_tiling\n",
    "\n",
    "\n",
    "#function that tiles a unitcell down once\n",
    "def tile_down(unitcellmat,tilingmat):\n",
    "    \n",
    "    tiledown_unitcell=unitcellmat+unitcell_plus256\n",
    "    tiledown_tiling=tilingmat+tiling_plus256\n",
    "    \n",
    "    return tiledown_unitcell,tiledown_tiling"
   ]
  },
  {
   "cell_type": "code",
   "execution_count": 18,
   "id": "55b4f10d",
   "metadata": {},
   "outputs": [],
   "source": [
    "#NxN tiling: This function tiles in +x direction N-1 times and -y direction N-1 times. \n",
    "#Output is basically a NxN lattice\n",
    "def NxN_tile(N):\n",
    "    #making a registry of unitcells. The first entry is the base unitcell\n",
    "    unitcellregistry=[]\n",
    "    unitcellregistry.append(unitcellmatrix)\n",
    "    \n",
    "    #making a registry of tilings. The first entry is the base tiling\n",
    "    tilingregistry=[]\n",
    "    tilingregistry.append(tilingmatrix)\n",
    "    \n",
    "    \n",
    "    #tiling to the right N-1 times, and appending the registries with the new tiled matrices\n",
    "    for i in range(N-1):\n",
    "        newmatsright=tile_right(unitcellregistry[i],tilingregistry[i])\n",
    "        unitcellregistry.append(newmatsright[0])\n",
    "        tilingregistry.append(newmatsright[1])\n",
    "        \n",
    "    #Now there is a row of N unit cells in the registries. For each unit cell in this row, we tile down N-1 times.\n",
    "    #a list containing the row to be tiled down. Initialize with 1st row. It will be updated with each iteration\n",
    "    tobetiled_down=[]\n",
    "    for i in range(N):\n",
    "        tobetiled_down.append((unitcellregistry[i],tilingregistry[i]))\n",
    "    \n",
    "    \n",
    "    \n",
    "    for i in range(N-1):\n",
    "        \n",
    "        newrow=[]\n",
    "        for j in tobetiled_down:\n",
    "            #tile down each unit cell in the preceding row\n",
    "            newmatsdown=tile_down(j[0],j[1])\n",
    "            \n",
    "            #update the registries with each new matrix\n",
    "            unitcellregistry.append(newmatsdown[0])\n",
    "            tilingregistry.append(newmatsdown[1])\n",
    "            \n",
    "            #populate newrow with the new matrices\n",
    "            newrow.append(newmatsdown)\n",
    "            #update the to be tiled down list to be used in the new iteration\n",
    "            tobetiled_down=newrow\n",
    "            \n",
    "    \n",
    "    \n",
    "    return unitcellregistry, tilingregistry"
   ]
  },
  {
   "cell_type": "code",
   "execution_count": 19,
   "id": "b01c1bb8",
   "metadata": {},
   "outputs": [],
   "source": [
    "#Num is the desired number of unit cells in one dimension (Defined this way so that we can use this number later)\n",
    "Num=8\n",
    "x=NxN_tile(Num)\n",
    "#x"
   ]
  },
  {
   "cell_type": "code",
   "execution_count": 20,
   "id": "f89b0034",
   "metadata": {
    "scrolled": true
   },
   "outputs": [],
   "source": [
    "#setting j values here\n",
    "jvalue_2chains=-2.0   \n",
    "jvalue_3chains=-3.0\n",
    "jvalue_internal=-1.0\n",
    "jvalue_tiling=-1.0\n",
    "\n",
    "\n",
    "#input both registries and output a list of dictionaries of the form (qubiti,qubitj: jvalue)\n",
    "def getcouplings(ucreg,tilreg):\n",
    "    \n",
    "    couplings_2chains={}    \n",
    "    couplings_3chains={}   \n",
    "    couplings_internal={}\n",
    "    couplings_tiling={}\n",
    "    \n",
    "    \n",
    "    \n",
    "    for matrix in ucreg:\n",
    "    \n",
    "     \n",
    "        #keeping a record of the 2 qubit chains and their coupling values\n",
    "        for i in range(1,unitcellmatrix.shape[0]):\n",
    "            for j in range(1,unitcellmatrix.shape[0]):\n",
    "                if matrix[i,j]==2:\n",
    "                    index1=i\n",
    "                    index2=j\n",
    "                    qubit1=matrix[i,0]\n",
    "                    qubit2=matrix[0,j]\n",
    "                    list=[qubit1,qubit2]\n",
    "                    #this gets rid of repeats. ie, (1,5) and (5,1)\n",
    "                    list.sort()\n",
    "                    couplings_2chains.update({(list[0],list[1]):jvalue_2chains})\n",
    "    \n",
    "        #keeping a record of the 3 qubit chains and their coupling values\n",
    "        for i in range(1,unitcellmatrix.shape[0]):\n",
    "            for j in range(1,unitcellmatrix.shape[0]):\n",
    "                if matrix[i,j]==3:\n",
    "                    index1=i\n",
    "                    index2=j\n",
    "                    qubit1=matrix[i,0]\n",
    "                    qubit2=matrix[0,j]\n",
    "                    list=[qubit1,qubit2]\n",
    "                    #this gets rid of repeats. ie, (2,6) and (6,2)\n",
    "                    list.sort()\n",
    "                    couplings_3chains.update({(list[0],list[1]):jvalue_3chains})\n",
    "\n",
    "        #keeping a record of the internal couplings and their coupling values\n",
    "        for i in range(1,unitcellmatrix.shape[0]):\n",
    "            for j in range(1,unitcellmatrix.shape[0]):\n",
    "                if matrix[i,j]==J:\n",
    "                    index1=i\n",
    "                    index2=j\n",
    "                    qubit1=matrix[i,0]\n",
    "                    qubit2=matrix[0,j]\n",
    "                    list=[qubit1,qubit2]\n",
    "                    #this gets rid of repeats. ie, (2,6) and (6,2)\n",
    "                    list.sort()\n",
    "                    couplings_internal.update({(list[0],list[1]):jvalue_internal})\n",
    "        \n",
    "        \n",
    "        \n",
    "    for matrix in tilreg:\n",
    "\n",
    "    \n",
    "        #keeping a record of the tiling couplings and their coupling values\n",
    "        for i in range(1,tilingmatrix.shape[0]):\n",
    "            for j in range(1,tilingmatrix.shape[0]):\n",
    "                if matrix[i,j]==J:\n",
    "                    index1=i\n",
    "                    index2=j\n",
    "                    qubit1=matrix[i,0]\n",
    "                    qubit2=matrix[0,j]\n",
    "                    list=[qubit1,qubit2]\n",
    "                    #this gets rid of repeats. ie, (2,6) and (6,2)\n",
    "                    list.sort()\n",
    "                    couplings_tiling.update({(list[0],list[1]):jvalue_tiling})\n",
    "                    \n",
    "\n",
    "    #Dictionary with all chains, internal couplings, and tiling couplings\n",
    "    all_couple_values={}\n",
    "    all_couple_values.update(couplings_2chains)\n",
    "    all_couple_values.update(couplings_3chains)\n",
    "    all_couple_values.update(couplings_internal)\n",
    "    all_couple_values.update(couplings_tiling)\n",
    "    \n",
    "    #print(couplings_2chains)\n",
    "    print(\"There are\",len(couplings_2chains),\"2chains\")\n",
    "    \n",
    "    #print(couplings_3chains)\n",
    "    print(\"There are\",len(couplings_3chains),\"3chains (when split into 2chains)\")\n",
    "            \n",
    "    #print(couplings_internal)\n",
    "    print(\"There are\",len(couplings_internal),\"internal couplings\")\n",
    "    \n",
    "    #print(couplings_tiling)\n",
    "    print(\"There are\",len(couplings_tiling),\"tiling couplings\")\n",
    "    \n",
    "    return all_couple_values"
   ]
  },
  {
   "cell_type": "code",
   "execution_count": 21,
   "id": "235e4044",
   "metadata": {},
   "outputs": [
    {
     "name": "stdout",
     "output_type": "stream",
     "text": [
      "There are 256 2chains\n",
      "There are 1024 3chains (when split into 2chains)\n",
      "There are 1088 internal couplings\n",
      "There are 448 tiling couplings\n"
     ]
    }
   ],
   "source": [
    "couplers=getcouplings(x[0],x[1])\n",
    "#couplers"
   ]
  },
  {
   "cell_type": "code",
   "execution_count": 22,
   "id": "6220f6d9",
   "metadata": {},
   "outputs": [
    {
     "data": {
      "text/plain": [
       "2816"
      ]
     },
     "execution_count": 22,
     "metadata": {},
     "output_type": "execute_result"
    }
   ],
   "source": [
    "#checking number of couplers\n",
    "len(couplers)"
   ]
  },
  {
   "cell_type": "code",
   "execution_count": 23,
   "id": "3c4cec71",
   "metadata": {
    "scrolled": true
   },
   "outputs": [],
   "source": [
    "#getting the tuples from the coupler dictionary\n",
    "tuples_only=[]\n",
    "for edge in couplers.keys():\n",
    "    tuples_only.append(edge)\n",
    "    \n",
    "#print(tuples_only)"
   ]
  },
  {
   "cell_type": "code",
   "execution_count": 24,
   "id": "a6101533",
   "metadata": {},
   "outputs": [
    {
     "name": "stdout",
     "output_type": "stream",
     "text": [
      "\u001b[31m(1730.0, 1735.0)\u001b[0m \u001b[31mis not found in list, removing\u001b[0m\n",
      "\u001b[31m(38.0, 46.0)\u001b[0m \u001b[31mis not found in list, removing\u001b[0m\n",
      "\u001b[31m(124.0, 132.0)\u001b[0m \u001b[31mis not found in list, removing\u001b[0m\n",
      "\u001b[31m(254.0, 262.0)\u001b[0m \u001b[31mis not found in list, removing\u001b[0m\n",
      "\u001b[31m(380.0, 388.0)\u001b[0m \u001b[31mis not found in list, removing\u001b[0m\n",
      "\u001b[31m(510.0, 518.0)\u001b[0m \u001b[31mis not found in list, removing\u001b[0m\n",
      "\u001b[31m(521.0, 524.0)\u001b[0m \u001b[31mis not found in list, removing\u001b[0m\n",
      "\u001b[31m(540.0, 548.0)\u001b[0m \u001b[31mis not found in list, removing\u001b[0m\n",
      "\u001b[31m(636.0, 644.0)\u001b[0m \u001b[31mis not found in list, removing\u001b[0m\n",
      "\u001b[31m(766.0, 774.0)\u001b[0m \u001b[31mis not found in list, removing\u001b[0m\n",
      "\u001b[31m(892.0, 900.0)\u001b[0m \u001b[31mis not found in list, removing\u001b[0m\n",
      "\u001b[31m(1022.0, 1030.0)\u001b[0m \u001b[31mis not found in list, removing\u001b[0m\n",
      "\u001b[31m(1148.0, 1156.0)\u001b[0m \u001b[31mis not found in list, removing\u001b[0m\n",
      "\u001b[31m(1278.0, 1286.0)\u001b[0m \u001b[31mis not found in list, removing\u001b[0m\n",
      "\u001b[31m(1404.0, 1412.0)\u001b[0m \u001b[31mis not found in list, removing\u001b[0m\n",
      "\u001b[31m(1534.0, 1542.0)\u001b[0m \u001b[31mis not found in list, removing\u001b[0m\n",
      "\u001b[31m(1723.0, 1727.0)\u001b[0m \u001b[31mis not found in list, removing\u001b[0m\n",
      "\u001b[31m(1660.0, 1668.0)\u001b[0m \u001b[31mis not found in list, removing\u001b[0m\n",
      "\u001b[31m(1790.0, 1798.0)\u001b[0m \u001b[31mis not found in list, removing\u001b[0m\n",
      "\u001b[31m(1801.0, 1804.0)\u001b[0m \u001b[31mis not found in list, removing\u001b[0m\n",
      "\u001b[31m(1920.0, 2048.0)\u001b[0m \u001b[31mis not found in list, removing\u001b[0m\n",
      "\u001b[31m(1931.0, 2059.0)\u001b[0m \u001b[31mis not found in list, removing\u001b[0m\n",
      "\u001b[31m(1936.0, 2064.0)\u001b[0m \u001b[31mis not found in list, removing\u001b[0m\n",
      "\u001b[31m(1947.0, 2075.0)\u001b[0m \u001b[31mis not found in list, removing\u001b[0m\n",
      "\u001b[31m(1952.0, 2080.0)\u001b[0m \u001b[31mis not found in list, removing\u001b[0m\n",
      "\u001b[31m(1963.0, 2091.0)\u001b[0m \u001b[31mis not found in list, removing\u001b[0m\n",
      "\u001b[31m(1968.0, 2096.0)\u001b[0m \u001b[31mis not found in list, removing\u001b[0m\n",
      "\u001b[31m(1979.0, 2107.0)\u001b[0m \u001b[31mis not found in list, removing\u001b[0m\n",
      "\u001b[31m(1984.0, 2112.0)\u001b[0m \u001b[31mis not found in list, removing\u001b[0m\n",
      "\u001b[31m(1995.0, 2123.0)\u001b[0m \u001b[31mis not found in list, removing\u001b[0m\n",
      "\u001b[31m(2000.0, 2128.0)\u001b[0m \u001b[31mis not found in list, removing\u001b[0m\n",
      "\u001b[31m(2011.0, 2139.0)\u001b[0m \u001b[31mis not found in list, removing\u001b[0m\n",
      "\u001b[31m(2016.0, 2144.0)\u001b[0m \u001b[31mis not found in list, removing\u001b[0m\n",
      "\u001b[31m(2027.0, 2155.0)\u001b[0m \u001b[31mis not found in list, removing\u001b[0m\n",
      "\u001b[31m(1916.0, 1924.0)\u001b[0m \u001b[31mis not found in list, removing\u001b[0m\n",
      "\u001b[31m(2032.0, 2160.0)\u001b[0m \u001b[31mis not found in list, removing\u001b[0m\n",
      "\u001b[31m(2043.0, 2171.0)\u001b[0m \u001b[31mis not found in list, removing\u001b[0m\n",
      "\u001b[31m(1729.0, 1735.0)\u001b[0m \u001b[31mis not found in list, removing\u001b[0m\n",
      "\u001b[31m(1735.0, 1743.0)\u001b[0m \u001b[31mis not found in list, removing\u001b[0m\n",
      "\u001b[31m(127.0, 135.0)\u001b[0m \u001b[31mis not found in list, removing\u001b[0m\n",
      "\u001b[31m(253.0, 261.0)\u001b[0m \u001b[31mis not found in list, removing\u001b[0m\n",
      "\u001b[31m(544.0, 548.0)\u001b[0m \u001b[31mis not found in list, removing\u001b[0m\n",
      "\u001b[31m(383.0, 391.0)\u001b[0m \u001b[31mis not found in list, removing\u001b[0m\n",
      "\u001b[31m(509.0, 517.0)\u001b[0m \u001b[31mis not found in list, removing\u001b[0m\n",
      "\u001b[31m(639.0, 647.0)\u001b[0m \u001b[31mis not found in list, removing\u001b[0m\n",
      "\u001b[31m(765.0, 773.0)\u001b[0m \u001b[31mis not found in list, removing\u001b[0m\n",
      "\u001b[31m(895.0, 903.0)\u001b[0m \u001b[31mis not found in list, removing\u001b[0m\n",
      "\u001b[31m(1021.0, 1029.0)\u001b[0m \u001b[31mis not found in list, removing\u001b[0m\n",
      "\u001b[31m(1151.0, 1159.0)\u001b[0m \u001b[31mis not found in list, removing\u001b[0m\n",
      "\u001b[31m(1277.0, 1285.0)\u001b[0m \u001b[31mis not found in list, removing\u001b[0m\n",
      "\u001b[31m(1407.0, 1415.0)\u001b[0m \u001b[31mis not found in list, removing\u001b[0m\n",
      "\u001b[31m(1533.0, 1541.0)\u001b[0m \u001b[31mis not found in list, removing\u001b[0m\n",
      "\u001b[31m(1663.0, 1671.0)\u001b[0m \u001b[31mis not found in list, removing\u001b[0m\n",
      "\u001b[31m(1789.0, 1797.0)\u001b[0m \u001b[31mis not found in list, removing\u001b[0m\n",
      "\u001b[31m(1922.0, 2050.0)\u001b[0m \u001b[31mis not found in list, removing\u001b[0m\n",
      "\u001b[31m(2059.0, 2062.0)\u001b[0m \u001b[31mis not found in list, removing\u001b[0m\n",
      "\u001b[31m(1938.0, 2066.0)\u001b[0m \u001b[31mis not found in list, removing\u001b[0m\n",
      "\u001b[31m(2075.0, 2078.0)\u001b[0m \u001b[31mis not found in list, removing\u001b[0m\n",
      "\u001b[31m(1954.0, 2082.0)\u001b[0m \u001b[31mis not found in list, removing\u001b[0m\n",
      "\u001b[31m(2091.0, 2094.0)\u001b[0m \u001b[31mis not found in list, removing\u001b[0m\n",
      "\u001b[31m(1970.0, 2098.0)\u001b[0m \u001b[31mis not found in list, removing\u001b[0m\n",
      "\u001b[31m(2107.0, 2110.0)\u001b[0m \u001b[31mis not found in list, removing\u001b[0m\n",
      "\u001b[31m(1986.0, 2114.0)\u001b[0m \u001b[31mis not found in list, removing\u001b[0m\n",
      "\u001b[31m(2123.0, 2126.0)\u001b[0m \u001b[31mis not found in list, removing\u001b[0m\n",
      "\u001b[31m(2002.0, 2130.0)\u001b[0m \u001b[31mis not found in list, removing\u001b[0m\n",
      "\u001b[31m(2139.0, 2142.0)\u001b[0m \u001b[31mis not found in list, removing\u001b[0m\n",
      "\u001b[31m(2018.0, 2146.0)\u001b[0m \u001b[31mis not found in list, removing\u001b[0m\n",
      "\u001b[31m(2155.0, 2158.0)\u001b[0m \u001b[31mis not found in list, removing\u001b[0m\n",
      "\u001b[31m(1919.0, 1927.0)\u001b[0m \u001b[31mis not found in list, removing\u001b[0m\n",
      "\u001b[31m(2041.0, 2169.0)\u001b[0m \u001b[31mis not found in list, removing\u001b[0m\n",
      "\u001b[31m(2051.0, 2054.0)\u001b[0m \u001b[31mis not found in list, removing\u001b[0m\n",
      "\u001b[31m(2160.0, 2164.0)\u001b[0m \u001b[31mis not found in list, removing\u001b[0m\n",
      "\u001b[31m(524.0, 532.0)\u001b[0m \u001b[31mis not found in list, removing\u001b[0m\n",
      "\u001b[31m(1723.0, 1851.0)\u001b[0m \u001b[31mis not found in list, removing\u001b[0m\n",
      "\u001b[31m(1804.0, 1812.0)\u001b[0m \u001b[31mis not found in list, removing\u001b[0m\n",
      "\u001b[31m(2046.0, 2054.0)\u001b[0m \u001b[31mis not found in list, removing\u001b[0m\n",
      "\u001b[31m(1929.0, 2057.0)\u001b[0m \u001b[31mis not found in list, removing\u001b[0m\n",
      "\u001b[31m(2048.0, 2052.0)\u001b[0m \u001b[31mis not found in list, removing\u001b[0m\n",
      "\u001b[31m(1945.0, 2073.0)\u001b[0m \u001b[31mis not found in list, removing\u001b[0m\n",
      "\u001b[31m(2064.0, 2068.0)\u001b[0m \u001b[31mis not found in list, removing\u001b[0m\n",
      "\u001b[31m(1961.0, 2089.0)\u001b[0m \u001b[31mis not found in list, removing\u001b[0m\n",
      "\u001b[31m(2080.0, 2084.0)\u001b[0m \u001b[31mis not found in list, removing\u001b[0m\n",
      "\u001b[31m(1977.0, 2105.0)\u001b[0m \u001b[31mis not found in list, removing\u001b[0m\n",
      "\u001b[31m(2096.0, 2100.0)\u001b[0m \u001b[31mis not found in list, removing\u001b[0m\n",
      "\u001b[31m(1993.0, 2121.0)\u001b[0m \u001b[31mis not found in list, removing\u001b[0m\n",
      "\u001b[31m(2112.0, 2116.0)\u001b[0m \u001b[31mis not found in list, removing\u001b[0m\n",
      "\u001b[31m(2009.0, 2137.0)\u001b[0m \u001b[31mis not found in list, removing\u001b[0m\n",
      "\u001b[31m(2128.0, 2132.0)\u001b[0m \u001b[31mis not found in list, removing\u001b[0m\n",
      "\u001b[31m(2025.0, 2153.0)\u001b[0m \u001b[31mis not found in list, removing\u001b[0m\n",
      "\u001b[31m(2144.0, 2148.0)\u001b[0m \u001b[31mis not found in list, removing\u001b[0m\n",
      "\u001b[31m(2045.0, 2053.0)\u001b[0m \u001b[31mis not found in list, removing\u001b[0m\n",
      "\u001b[31m(2034.0, 2162.0)\u001b[0m \u001b[31mis not found in list, removing\u001b[0m\n",
      "\u001b[31m(2171.0, 2174.0)\u001b[0m \u001b[31mis not found in list, removing\u001b[0m\n",
      "done, all couplers are good\n"
     ]
    }
   ],
   "source": [
    "#checking if all the couplers being used are present in the qpu. \n",
    "#If one is missing for some reason, it will be removed\n",
    "\n",
    "while all(edge in sampler.edgelist for edge in tuples_only)==False:\n",
    "    for edge in tuples_only:\n",
    "        if edge not in sampler.edgelist:\n",
    "            print(colored(edge, 'red'), colored('is not found in list, removing', 'red'))\n",
    "\n",
    "            tuples_only.remove(edge)\n",
    "            couplers.pop(edge)\n",
    "\n",
    "    if all(edge in sampler.edgelist for edge in tuples_only)==True:\n",
    "            print(\"done, all couplers are good\")"
   ]
  },
  {
   "cell_type": "code",
   "execution_count": 25,
   "id": "78648e1c",
   "metadata": {},
   "outputs": [
    {
     "name": "stdout",
     "output_type": "stream",
     "text": [
      "all couplers are good\n"
     ]
    }
   ],
   "source": [
    "#rechecking all couplers before annealing\n",
    "if all(edge in sampler.edgelist for edge in tuples_only)==True:\n",
    "    print(\"all couplers are good\")"
   ]
  },
  {
   "cell_type": "code",
   "execution_count": 32,
   "id": "f31c2c6b",
   "metadata": {},
   "outputs": [],
   "source": [
    "#this cell is a simulated anneal. ouputs a \"response\"\n",
    "#make sure either this cell or the cell below is commented out\n",
    "\n",
    "# h={}\n",
    "# J=couplers\n",
    "# model = dimod.BinaryQuadraticModel(h, J, 0.0, dimod.SPIN)\n",
    "\n",
    "# sampler2 = dimod.SimulatedAnnealingSampler()\n",
    "# response = sampler2.sample(model, num_reads=10)\n",
    "# print(response)"
   ]
  },
  {
   "cell_type": "code",
   "execution_count": 33,
   "id": "c1292947",
   "metadata": {
    "scrolled": true
   },
   "outputs": [],
   "source": [
    "#this cell is a quantum anneal. ouputs a \"response\" and opens up the inspector\n",
    "#make sure either this cell or the cell above is commented out\n",
    "\n",
    "# h={}\n",
    "# J=couplers\n",
    "# response = sampler.sample_ising(h, J, num_reads=800)\n",
    "\n",
    "# print(response)\n",
    "# dwave.inspector.show(response)"
   ]
  },
  {
   "cell_type": "code",
   "execution_count": 28,
   "id": "050787fd",
   "metadata": {},
   "outputs": [],
   "source": [
    "#a function for setting a document name for storing the response\n",
    "\n",
    "from datetime import datetime\n",
    "\n",
    "def DocName(jvalue_internal,Num):\n",
    "    str1=str(Num)\n",
    "    \n",
    "    if jvalue_internal<0:\n",
    "        str2=\"NegJ\"\n",
    "    else:\n",
    "        str2=\"PosJ\"\n",
    "    \n",
    "    now = datetime.now()\n",
    "    str3 = now.strftime(\"%m-%d-%y__%H-%M-%S\")\n",
    "    \n",
    "    Documentname=str1+\"x\"+str1+\"Kagome\"+str2+\"__\"+str3\n",
    "    \n",
    "    return Documentname"
   ]
  },
  {
   "cell_type": "code",
   "execution_count": 29,
   "id": "8e9aaee3",
   "metadata": {},
   "outputs": [],
   "source": [
    "#converting response to pandas dataframe, and then storing as a csv\n",
    "\n",
    "# Name=DocName(jvalue_internal,Num)\n",
    "\n",
    "# from pathlib import Path  \n",
    "# filepath = Path(\"/Users/prathunarasimhan/Documents/QIQC/KagomeNxN_runs/\",Name) \n",
    "\n",
    "# to_pandas=response.to_pandas_dataframe(sample_column=True)\n",
    "# #print(to_pandas)\n",
    "\n",
    "# to_pandas.to_csv(filepath)"
   ]
  },
  {
   "cell_type": "code",
   "execution_count": null,
   "id": "76fe7245",
   "metadata": {},
   "outputs": [],
   "source": []
  }
 ],
 "metadata": {
  "kernelspec": {
   "display_name": "Python 3 (ipykernel)",
   "language": "python",
   "name": "python3"
  },
  "language_info": {
   "codemirror_mode": {
    "name": "ipython",
    "version": 3
   },
   "file_extension": ".py",
   "mimetype": "text/x-python",
   "name": "python",
   "nbconvert_exporter": "python",
   "pygments_lexer": "ipython3",
   "version": "3.9.7"
  }
 },
 "nbformat": 4,
 "nbformat_minor": 5
}
